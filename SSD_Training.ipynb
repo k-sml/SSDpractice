{
 "cells": [
  {
   "cell_type": "code",
   "execution_count": 1,
   "metadata": {},
   "outputs": [
    {
     "name": "stdout",
     "output_type": "stream",
     "text": [
      "使用されるデバイス: cuda\n"
     ]
    }
   ],
   "source": [
    "import torch\n",
    "\n",
    "device = torch.device('cuda' if torch.cuda.is_available() else 'cpu')\n",
    "print('使用されるデバイス:', device)"
   ]
  },
  {
   "cell_type": "code",
   "execution_count": 2,
   "metadata": {},
   "outputs": [],
   "source": [
    "import sys"
   ]
  },
  {
   "cell_type": "code",
   "execution_count": 3,
   "metadata": {},
   "outputs": [],
   "source": [
    "import torch.utils.data as data\n",
    "\n",
    "from voc import make_filepath_list, GetBBoxAndLabel, DataTransform, PreprocessVOC2012, multiobject_collate_fn\n",
    "\n",
    "rootpath = '/home/komuro/Documents/ssdbook/data/VOCdevkit/VOC2012/'\n",
    "train_img_list, train_anno_list, val_img_list, val_anno_list = make_filepath_list(rootpath)\n",
    "\n",
    "voc_classes = [\n",
    "    'aeroplane', 'bicycle', 'bird', 'boat', 'bottle',\n",
    "    'bus', 'car', 'cat', 'chair', 'cow',\n",
    "    'diningtable', 'dog', 'horse', 'motorbike',\n",
    "    'person', 'pottedplant', 'sheep', 'sofa', 'train',\n",
    "    'tvmonitor'\n",
    "]"
   ]
  },
  {
   "cell_type": "code",
   "execution_count": 4,
   "metadata": {},
   "outputs": [],
   "source": [
    "color_mean = (104, 117, 123)\n",
    "input_size = 300\n",
    "\n",
    "train_dataset = PreprocessVOC2012(\n",
    "    train_img_list,\n",
    "    train_anno_list,\n",
    "    phase='train',\n",
    "    transform=DataTransform(input_size, color_mean),\n",
    "    get_bbox_label=GetBBoxAndLabel(voc_classes)\n",
    ")\n",
    "\n",
    "val_dataset = PreprocessVOC2012(\n",
    "    val_img_list,\n",
    "    val_anno_list,\n",
    "    phase='val',\n",
    "    transform=DataTransform(input_size, color_mean),\n",
    "    get_bbox_label=GetBBoxAndLabel(voc_classes)\n",
    ")"
   ]
  },
  {
   "cell_type": "code",
   "execution_count": 5,
   "metadata": {},
   "outputs": [],
   "source": [
    "batch_size = 32\n",
    "\n",
    "train_dataloader = data.DataLoader(\n",
    "    train_dataset,\n",
    "    batch_size=batch_size,\n",
    "    shuffle=True,\n",
    "    collate_fn=multiobject_collate_fn\n",
    ")\n",
    "val_dataloader = data.DataLoader(\n",
    "    val_dataset,\n",
    "    batch_size=batch_size,\n",
    "    shuffle=False,\n",
    "    collate_fn=multiobject_collate_fn\n",
    ")\n",
    "\n",
    "dataloaders_dict = {'train': train_dataloader, 'val': val_dataloader}"
   ]
  },
  {
   "cell_type": "code",
   "execution_count": 6,
   "metadata": {},
   "outputs": [
    {
     "data": {
      "text/plain": [
       "===================================================================================================================\n",
       "Layer (type:depth-idx)                   Input Shape               Output Shape              Param #\n",
       "===================================================================================================================\n",
       "SSD                                      [32, 3, 300, 300]         [32, 8732, 4]             --\n",
       "├─ModuleList: 1-3                        --                        --                        (recursive)\n",
       "│    └─Conv2d: 2-1                       [32, 3, 300, 300]         [32, 64, 300, 300]        1,792\n",
       "│    └─ReLU: 2-2                         [32, 64, 300, 300]        [32, 64, 300, 300]        --\n",
       "│    └─Conv2d: 2-3                       [32, 64, 300, 300]        [32, 64, 300, 300]        36,928\n",
       "│    └─ReLU: 2-4                         [32, 64, 300, 300]        [32, 64, 300, 300]        --\n",
       "│    └─MaxPool2d: 2-5                    [32, 64, 300, 300]        [32, 64, 150, 150]        --\n",
       "│    └─Conv2d: 2-6                       [32, 64, 150, 150]        [32, 128, 150, 150]       73,856\n",
       "│    └─ReLU: 2-7                         [32, 128, 150, 150]       [32, 128, 150, 150]       --\n",
       "│    └─Conv2d: 2-8                       [32, 128, 150, 150]       [32, 128, 150, 150]       147,584\n",
       "│    └─ReLU: 2-9                         [32, 128, 150, 150]       [32, 128, 150, 150]       --\n",
       "│    └─MaxPool2d: 2-10                   [32, 128, 150, 150]       [32, 128, 75, 75]         --\n",
       "│    └─Conv2d: 2-11                      [32, 128, 75, 75]         [32, 256, 75, 75]         295,168\n",
       "│    └─ReLU: 2-12                        [32, 256, 75, 75]         [32, 256, 75, 75]         --\n",
       "│    └─Conv2d: 2-13                      [32, 256, 75, 75]         [32, 256, 75, 75]         590,080\n",
       "│    └─ReLU: 2-14                        [32, 256, 75, 75]         [32, 256, 75, 75]         --\n",
       "│    └─Conv2d: 2-15                      [32, 256, 75, 75]         [32, 256, 75, 75]         590,080\n",
       "│    └─ReLU: 2-16                        [32, 256, 75, 75]         [32, 256, 75, 75]         --\n",
       "│    └─MaxPool2d: 2-17                   [32, 256, 75, 75]         [32, 256, 38, 38]         --\n",
       "│    └─Conv2d: 2-18                      [32, 256, 38, 38]         [32, 512, 38, 38]         1,180,160\n",
       "│    └─ReLU: 2-19                        [32, 512, 38, 38]         [32, 512, 38, 38]         --\n",
       "│    └─Conv2d: 2-20                      [32, 512, 38, 38]         [32, 512, 38, 38]         2,359,808\n",
       "│    └─ReLU: 2-21                        [32, 512, 38, 38]         [32, 512, 38, 38]         --\n",
       "│    └─Conv2d: 2-22                      [32, 512, 38, 38]         [32, 512, 38, 38]         2,359,808\n",
       "│    └─ReLU: 2-23                        [32, 512, 38, 38]         [32, 512, 38, 38]         --\n",
       "├─L2Norm: 1-2                            [32, 512, 38, 38]         [32, 512, 38, 38]         512\n",
       "├─ModuleList: 1-3                        --                        --                        (recursive)\n",
       "│    └─MaxPool2d: 2-24                   [32, 512, 38, 38]         [32, 512, 19, 19]         --\n",
       "│    └─Conv2d: 2-25                      [32, 512, 19, 19]         [32, 512, 19, 19]         2,359,808\n",
       "│    └─ReLU: 2-26                        [32, 512, 19, 19]         [32, 512, 19, 19]         --\n",
       "│    └─Conv2d: 2-27                      [32, 512, 19, 19]         [32, 512, 19, 19]         2,359,808\n",
       "│    └─ReLU: 2-28                        [32, 512, 19, 19]         [32, 512, 19, 19]         --\n",
       "│    └─Conv2d: 2-29                      [32, 512, 19, 19]         [32, 512, 19, 19]         2,359,808\n",
       "│    └─ReLU: 2-30                        [32, 512, 19, 19]         [32, 512, 19, 19]         --\n",
       "│    └─MaxPool2d: 2-31                   [32, 512, 19, 19]         [32, 512, 19, 19]         --\n",
       "│    └─Conv2d: 2-32                      [32, 512, 19, 19]         [32, 1024, 19, 19]        4,719,616\n",
       "│    └─ReLU: 2-33                        [32, 1024, 19, 19]        [32, 1024, 19, 19]        --\n",
       "│    └─Conv2d: 2-34                      [32, 1024, 19, 19]        [32, 1024, 19, 19]        1,049,600\n",
       "│    └─ReLU: 2-35                        [32, 1024, 19, 19]        [32, 1024, 19, 19]        --\n",
       "├─ModuleList: 1-4                        --                        --                        --\n",
       "│    └─Conv2d: 2-36                      [32, 1024, 19, 19]        [32, 256, 19, 19]         262,400\n",
       "│    └─Conv2d: 2-37                      [32, 256, 19, 19]         [32, 512, 10, 10]         1,180,160\n",
       "│    └─Conv2d: 2-38                      [32, 512, 10, 10]         [32, 128, 10, 10]         65,664\n",
       "│    └─Conv2d: 2-39                      [32, 128, 10, 10]         [32, 256, 5, 5]           295,168\n",
       "│    └─Conv2d: 2-40                      [32, 256, 5, 5]           [32, 128, 5, 5]           32,896\n",
       "│    └─Conv2d: 2-41                      [32, 128, 5, 5]           [32, 256, 3, 3]           295,168\n",
       "│    └─Conv2d: 2-42                      [32, 256, 3, 3]           [32, 128, 3, 3]           32,896\n",
       "│    └─Conv2d: 2-43                      [32, 128, 3, 3]           [32, 256, 1, 1]           295,168\n",
       "├─ModuleList: 1-15                       --                        --                        (recursive)\n",
       "│    └─Conv2d: 2-44                      [32, 512, 38, 38]         [32, 16, 38, 38]          73,744\n",
       "├─ModuleList: 1-16                       --                        --                        (recursive)\n",
       "│    └─Conv2d: 2-45                      [32, 512, 38, 38]         [32, 84, 38, 38]          387,156\n",
       "├─ModuleList: 1-15                       --                        --                        (recursive)\n",
       "│    └─Conv2d: 2-46                      [32, 1024, 19, 19]        [32, 24, 19, 19]          221,208\n",
       "├─ModuleList: 1-16                       --                        --                        (recursive)\n",
       "│    └─Conv2d: 2-47                      [32, 1024, 19, 19]        [32, 126, 19, 19]         1,161,342\n",
       "├─ModuleList: 1-15                       --                        --                        (recursive)\n",
       "│    └─Conv2d: 2-48                      [32, 512, 10, 10]         [32, 24, 10, 10]          110,616\n",
       "├─ModuleList: 1-16                       --                        --                        (recursive)\n",
       "│    └─Conv2d: 2-49                      [32, 512, 10, 10]         [32, 126, 10, 10]         580,734\n",
       "├─ModuleList: 1-15                       --                        --                        (recursive)\n",
       "│    └─Conv2d: 2-50                      [32, 256, 5, 5]           [32, 24, 5, 5]            55,320\n",
       "├─ModuleList: 1-16                       --                        --                        (recursive)\n",
       "│    └─Conv2d: 2-51                      [32, 256, 5, 5]           [32, 126, 5, 5]           290,430\n",
       "├─ModuleList: 1-15                       --                        --                        (recursive)\n",
       "│    └─Conv2d: 2-52                      [32, 256, 3, 3]           [32, 16, 3, 3]            36,880\n",
       "├─ModuleList: 1-16                       --                        --                        (recursive)\n",
       "│    └─Conv2d: 2-53                      [32, 256, 3, 3]           [32, 84, 3, 3]            193,620\n",
       "├─ModuleList: 1-15                       --                        --                        (recursive)\n",
       "│    └─Conv2d: 2-54                      [32, 256, 1, 1]           [32, 16, 1, 1]            36,880\n",
       "├─ModuleList: 1-16                       --                        --                        (recursive)\n",
       "│    └─Conv2d: 2-55                      [32, 256, 1, 1]           [32, 84, 1, 1]            193,620\n",
       "===================================================================================================================\n",
       "Total params: 26,285,486\n",
       "Trainable params: 26,285,486\n",
       "Non-trainable params: 0\n",
       "Total mult-adds (T): 1.00\n",
       "===================================================================================================================\n",
       "Input size (MB): 34.56\n",
       "Forward/backward pass size (MB): 6717.23\n",
       "Params size (MB): 105.14\n",
       "Estimated Total Size (MB): 6856.93\n",
       "==================================================================================================================="
      ]
     },
     "execution_count": 6,
     "metadata": {},
     "output_type": "execute_result"
    }
   ],
   "source": [
    "import torch.nn as nn\n",
    "import torch.nn.init as init\n",
    "from ssd import SSD\n",
    "from torchinfo import summary\n",
    "\n",
    "ssd_cfg = {\n",
    "    'classes_num': 21,\n",
    "    'input_size': 300,\n",
    "    'dbox_num': [4, 6, 6, 6, 4, 4],\n",
    "    'feature_maps': [38, 19, 10, 5, 3, 1],\n",
    "    'steps': [8, 16, 32, 64, 100, 300],\n",
    "    'min_sizes': [30, 60, 111, 162, 213, 264],\n",
    "    'max_sizes': [60, 111, 162, 213, 264, 315],\n",
    "    'aspect_ratios': [[2], [2, 3], [2, 3], [2, 3], [2], [2]],\n",
    "}\n",
    "\n",
    "net = SSD(phase='train', cfg=ssd_cfg)\n",
    "\n",
    "vgg_weights = torch.load('/home/komuro/Documents/ssdbook/weights/vgg16_redecedfc.pth')\n",
    "net.vgg.load_state_dict(vgg_weights)\n",
    "\n",
    "def weights_init(m):\n",
    "    if isinstance(m, nn.Conv2d):\n",
    "        init.kaiming_normal_(m.weight.data)\n",
    "        if m.bias is not None:\n",
    "            nn.init.constant_(m.bias, 0.0)\n",
    "\n",
    "net.extras.apply(weights_init)\n",
    "net.loc.apply(weights_init)\n",
    "net.conf.apply(weights_init)\n",
    "\n",
    "summary(\n",
    "    net,\n",
    "    input_size=(batch_size, 3, 300, 300),\n",
    "    col_names=['input_size', 'output_size', 'num_params']\n",
    ")"
   ]
  },
  {
   "cell_type": "code",
   "execution_count": 7,
   "metadata": {},
   "outputs": [],
   "source": [
    "import torch.optim as optim\n",
    "from ssd import MultiBoxLoss\n",
    "\n",
    "criterion = MultiBoxLoss(\n",
    "    jaccard_thresh=0.5,\n",
    "    neg_pos=3,\n",
    "    device=device\n",
    ")\n",
    "\n",
    "optimizer = optim.SGD(\n",
    "    net.parameters(),\n",
    "    lr=1e-3,\n",
    "    momentum=0.9,\n",
    "    weight_decay=5e-4\n",
    ")"
   ]
  },
  {
   "cell_type": "code",
   "execution_count": 8,
   "metadata": {},
   "outputs": [],
   "source": [
    "import time\n",
    "import pandas as pd\n",
    "\n",
    "def train(net, dataloaders_dict, criterion, optimizer, num_epochs):\n",
    "    net.to(device)\n",
    "    torch.backends.cudnn.benchmark = True\n",
    "\n",
    "    iteration = 1\n",
    "    epoch_train_loss = 0.0\n",
    "    epoch_val_loss = 0.0\n",
    "    logs=[]\n",
    "\n",
    "    for epoch in range(num_epochs):\n",
    "        t_epoch_start = time.time()\n",
    "        t_iter_start = time.time()\n",
    "\n",
    "        print('--------------------------')\n",
    "        print('Epoch {}/{}'.format(epoch+1, num_epochs))\n",
    "        print('--------------------------')\n",
    "\n",
    "        for phase in ['train', 'val']:\n",
    "            if phase == 'train':\n",
    "                net.train()\n",
    "            else:\n",
    "                if ((epoch+1) % 10 == 0):\n",
    "                    net.eval()\n",
    "                    print('--------------------------')\n",
    "                    print('validation')\n",
    "                else:\n",
    "                    continue\n",
    "\n",
    "            \n",
    "            for images, targets in dataloaders_dict[phase]:\n",
    "                images = images.to(device)\n",
    "\n",
    "                targets = [ann.to(device) for ann in targets]\n",
    "\n",
    "                optimizer.zero_grad()\n",
    "\n",
    "                with torch.set_grad_enabled(phase == 'train'):\n",
    "                    outputs = net(images)\n",
    "\n",
    "                    loss_l, loss_c = criterion(outputs, targets)\n",
    "                    loss = loss_l + loss_c\n",
    "\n",
    "                    if phase == 'train':\n",
    "                        loss.backward()\n",
    "                        nn.utils.clip_grad_value_(net.parameters(),\n",
    "                                                  clip_value=2.0)\n",
    "                        optimizer.step()\n",
    "\n",
    "                        if (iteration % 10 == 0):\n",
    "                            t_iter_finish = time.time()\n",
    "                            duration = t_iter_finish - t_iter_start\n",
    "\n",
    "                            print('ステップ( {} )  loss: {:.4f} -- time: {:.4f} sec.'.format(\n",
    "                                iteration, loss.item(), duration\n",
    "                            ))\n",
    "                            t_iter_start = time.time()\n",
    "                        \n",
    "                        epoch_train_loss += loss.item()\n",
    "                        iteration += 1\n",
    "                    else:\n",
    "                        epoch_val_loss += loss.item()\n",
    "        t_epoch_finish = time.time()\n",
    "        print('--------------------------')\n",
    "        print('train_loss: {:.4f} - val_loss: {:.4f}'.format(\n",
    "            epoch_train_loss, epoch_val_loss\n",
    "        ))\n",
    "\n",
    "        print('time: {:.4f} sec.'.format(t_epoch_finish - t_epoch_start))\n",
    "        t_epoch_start = time.time()\n",
    "\n",
    "        log_epoch = {'epoch': epoch+1,\n",
    "                    'train_loss': epoch_train_loss,\n",
    "                    'val_loss': epoch_val_loss}\n",
    "        \n",
    "        logs.append(log_epoch)\n",
    "        df = pd.DataFrame(logs)\n",
    "\n",
    "        df.to_csv('/home/komuro/Documents/ssdbook/epoch_loss.csv')\n",
    "\n",
    "        epoch_train_loss = 0.0\n",
    "        epoch_val_loss = 0.0\n",
    "\n",
    "        if ((epoch+1) % 10 == 0):\n",
    "            torch.save(\n",
    "                net.state_dict(),\n",
    "                '/home/komuro/Documents/ssdbook/weights/ssd_weights' + str(epoch+1) + '.pth'\n",
    "            )\n",
    "            print('--saved weights--')\n",
    "\n",
    "\n",
    "\n",
    "\n",
    "\n"
   ]
  },
  {
   "cell_type": "code",
   "execution_count": 9,
   "metadata": {},
   "outputs": [
    {
     "name": "stdout",
     "output_type": "stream",
     "text": [
      "--------------------------\n",
      "Epoch 1/50\n",
      "--------------------------\n"
     ]
    },
    {
     "name": "stderr",
     "output_type": "stream",
     "text": [
      "/home/komuro/Documents/ssdbook/augmentation.py:238: VisibleDeprecationWarning: Creating an ndarray from ragged nested sequences (which is a list-or-tuple of lists-or-tuples-or ndarrays with different lengths or shapes) is deprecated. If you meant to do this, you must specify 'dtype=object' when creating the ndarray.\n",
      "  mode = random.choice(self.sample_options)\n"
     ]
    },
    {
     "name": "stdout",
     "output_type": "stream",
     "text": [
      "ステップ( 10 )  loss: 15.8207 -- time: 6.4324 sec.\n",
      "ステップ( 20 )  loss: 12.6182 -- time: 4.6073 sec.\n",
      "ステップ( 30 )  loss: 9.8878 -- time: 4.6484 sec.\n",
      "ステップ( 40 )  loss: 9.4278 -- time: 4.7017 sec.\n",
      "ステップ( 50 )  loss: 8.5319 -- time: 4.7253 sec.\n",
      "ステップ( 60 )  loss: 8.4758 -- time: 4.4742 sec.\n",
      "ステップ( 70 )  loss: 8.3710 -- time: 4.4527 sec.\n",
      "ステップ( 80 )  loss: 7.7531 -- time: 4.5065 sec.\n",
      "ステップ( 90 )  loss: 8.0502 -- time: 4.6091 sec.\n",
      "ステップ( 100 )  loss: 7.8935 -- time: 4.4937 sec.\n",
      "ステップ( 110 )  loss: 7.8302 -- time: 4.5122 sec.\n",
      "ステップ( 120 )  loss: 8.2258 -- time: 4.5580 sec.\n",
      "ステップ( 130 )  loss: 8.2113 -- time: 4.4918 sec.\n",
      "ステップ( 140 )  loss: 7.8454 -- time: 4.6508 sec.\n",
      "ステップ( 150 )  loss: 7.7811 -- time: 4.5301 sec.\n",
      "ステップ( 160 )  loss: 7.2341 -- time: 4.6821 sec.\n",
      "ステップ( 170 )  loss: 7.6702 -- time: 4.4561 sec.\n",
      "--------------------------\n",
      "train_loss: 1665.5530 - val_loss: 0.0000\n",
      "time: 88.2907 sec.\n",
      "--------------------------\n",
      "Epoch 2/50\n",
      "--------------------------\n"
     ]
    },
    {
     "name": "stderr",
     "output_type": "stream",
     "text": [
      "/home/komuro/Documents/ssdbook/augmentation.py:238: VisibleDeprecationWarning: Creating an ndarray from ragged nested sequences (which is a list-or-tuple of lists-or-tuples-or ndarrays with different lengths or shapes) is deprecated. If you meant to do this, you must specify 'dtype=object' when creating the ndarray.\n",
      "  mode = random.choice(self.sample_options)\n"
     ]
    },
    {
     "name": "stdout",
     "output_type": "stream",
     "text": [
      "ステップ( 180 )  loss: 7.7894 -- time: 0.3452 sec.\n",
      "ステップ( 190 )  loss: 7.3454 -- time: 4.6500 sec.\n",
      "ステップ( 200 )  loss: 7.1523 -- time: 4.6307 sec.\n",
      "ステップ( 210 )  loss: 7.3136 -- time: 4.5940 sec.\n",
      "ステップ( 220 )  loss: 7.0639 -- time: 4.5658 sec.\n",
      "ステップ( 230 )  loss: 7.0955 -- time: 4.7195 sec.\n",
      "ステップ( 240 )  loss: 6.9649 -- time: 4.6064 sec.\n",
      "ステップ( 250 )  loss: 7.4294 -- time: 4.5286 sec.\n",
      "ステップ( 260 )  loss: 6.8294 -- time: 4.3894 sec.\n",
      "ステップ( 270 )  loss: 7.5333 -- time: 4.4188 sec.\n",
      "ステップ( 280 )  loss: 7.4206 -- time: 4.5589 sec.\n",
      "ステップ( 290 )  loss: 6.7496 -- time: 4.5786 sec.\n",
      "ステップ( 300 )  loss: 6.5092 -- time: 4.6229 sec.\n",
      "ステップ( 310 )  loss: 6.9015 -- time: 4.5527 sec.\n",
      "ステップ( 320 )  loss: 7.3971 -- time: 4.3534 sec.\n",
      "ステップ( 330 )  loss: 7.3733 -- time: 4.5246 sec.\n",
      "ステップ( 340 )  loss: 6.7835 -- time: 4.5278 sec.\n",
      "ステップ( 350 )  loss: 7.1444 -- time: 4.5727 sec.\n",
      "--------------------------\n",
      "train_loss: 1271.2633 - val_loss: 0.0000\n",
      "time: 84.0322 sec.\n",
      "--------------------------\n",
      "Epoch 3/50\n",
      "--------------------------\n"
     ]
    },
    {
     "name": "stderr",
     "output_type": "stream",
     "text": [
      "/home/komuro/Documents/ssdbook/augmentation.py:238: VisibleDeprecationWarning: Creating an ndarray from ragged nested sequences (which is a list-or-tuple of lists-or-tuples-or ndarrays with different lengths or shapes) is deprecated. If you meant to do this, you must specify 'dtype=object' when creating the ndarray.\n",
      "  mode = random.choice(self.sample_options)\n"
     ]
    },
    {
     "name": "stdout",
     "output_type": "stream",
     "text": [
      "ステップ( 360 )  loss: 6.5274 -- time: 0.8208 sec.\n",
      "ステップ( 370 )  loss: 6.8736 -- time: 4.5702 sec.\n",
      "ステップ( 380 )  loss: 6.7032 -- time: 4.5794 sec.\n",
      "ステップ( 390 )  loss: 6.3432 -- time: 4.4033 sec.\n",
      "ステップ( 400 )  loss: 7.1223 -- time: 4.6190 sec.\n",
      "ステップ( 410 )  loss: 6.8494 -- time: 4.5759 sec.\n",
      "ステップ( 420 )  loss: 6.4671 -- time: 4.5964 sec.\n",
      "ステップ( 430 )  loss: 6.5904 -- time: 4.8007 sec.\n",
      "ステップ( 440 )  loss: 6.2792 -- time: 4.6771 sec.\n",
      "ステップ( 450 )  loss: 6.9436 -- time: 4.5788 sec.\n",
      "ステップ( 460 )  loss: 6.1063 -- time: 4.7269 sec.\n",
      "ステップ( 470 )  loss: 6.4830 -- time: 4.6983 sec.\n",
      "ステップ( 480 )  loss: 6.2037 -- time: 4.5484 sec.\n",
      "ステップ( 490 )  loss: 6.5453 -- time: 4.5566 sec.\n",
      "ステップ( 500 )  loss: 7.0541 -- time: 4.6538 sec.\n",
      "ステップ( 510 )  loss: 6.8630 -- time: 4.4515 sec.\n",
      "ステップ( 520 )  loss: 6.9070 -- time: 4.5398 sec.\n",
      "ステップ( 530 )  loss: 6.3727 -- time: 4.6380 sec.\n",
      "--------------------------\n",
      "train_loss: 1190.3649 - val_loss: 0.0000\n",
      "time: 84.9360 sec.\n",
      "--------------------------\n",
      "Epoch 4/50\n",
      "--------------------------\n"
     ]
    },
    {
     "name": "stderr",
     "output_type": "stream",
     "text": [
      "/home/komuro/Documents/ssdbook/augmentation.py:238: VisibleDeprecationWarning: Creating an ndarray from ragged nested sequences (which is a list-or-tuple of lists-or-tuples-or ndarrays with different lengths or shapes) is deprecated. If you meant to do this, you must specify 'dtype=object' when creating the ndarray.\n",
      "  mode = random.choice(self.sample_options)\n"
     ]
    },
    {
     "name": "stdout",
     "output_type": "stream",
     "text": [
      "ステップ( 540 )  loss: 6.8040 -- time: 1.3254 sec.\n",
      "ステップ( 550 )  loss: 6.1986 -- time: 4.6674 sec.\n",
      "ステップ( 560 )  loss: 6.2540 -- time: 4.5269 sec.\n",
      "ステップ( 570 )  loss: 6.3735 -- time: 4.6612 sec.\n",
      "ステップ( 580 )  loss: 6.1213 -- time: 4.5765 sec.\n",
      "ステップ( 590 )  loss: 7.1055 -- time: 4.6590 sec.\n",
      "ステップ( 600 )  loss: 6.3113 -- time: 4.5664 sec.\n",
      "ステップ( 610 )  loss: 6.6519 -- time: 4.5586 sec.\n",
      "ステップ( 620 )  loss: 6.1905 -- time: 4.4836 sec.\n",
      "ステップ( 630 )  loss: 6.6144 -- time: 4.5551 sec.\n",
      "ステップ( 640 )  loss: 6.6022 -- time: 4.5505 sec.\n",
      "ステップ( 650 )  loss: 6.4089 -- time: 4.6345 sec.\n",
      "ステップ( 660 )  loss: 5.4070 -- time: 4.6985 sec.\n",
      "ステップ( 670 )  loss: 6.1401 -- time: 4.6091 sec.\n",
      "ステップ( 680 )  loss: 5.5709 -- time: 4.5618 sec.\n",
      "ステップ( 690 )  loss: 5.9240 -- time: 4.5151 sec.\n",
      "ステップ( 700 )  loss: 6.2463 -- time: 4.6030 sec.\n",
      "ステップ( 710 )  loss: 6.1419 -- time: 4.6162 sec.\n",
      "--------------------------\n",
      "train_loss: 1131.1593 - val_loss: 0.0000\n",
      "time: 84.8441 sec.\n",
      "--------------------------\n",
      "Epoch 5/50\n",
      "--------------------------\n"
     ]
    },
    {
     "name": "stderr",
     "output_type": "stream",
     "text": [
      "/home/komuro/Documents/ssdbook/augmentation.py:238: VisibleDeprecationWarning: Creating an ndarray from ragged nested sequences (which is a list-or-tuple of lists-or-tuples-or ndarrays with different lengths or shapes) is deprecated. If you meant to do this, you must specify 'dtype=object' when creating the ndarray.\n",
      "  mode = random.choice(self.sample_options)\n"
     ]
    },
    {
     "name": "stdout",
     "output_type": "stream",
     "text": [
      "ステップ( 720 )  loss: 6.1245 -- time: 1.7288 sec.\n",
      "ステップ( 730 )  loss: 6.2086 -- time: 4.7294 sec.\n",
      "ステップ( 740 )  loss: 5.7312 -- time: 4.4856 sec.\n",
      "ステップ( 750 )  loss: 5.6946 -- time: 4.4085 sec.\n",
      "ステップ( 760 )  loss: 6.2473 -- time: 4.5973 sec.\n",
      "ステップ( 770 )  loss: 5.9749 -- time: 4.5780 sec.\n",
      "ステップ( 780 )  loss: 6.6197 -- time: 4.5007 sec.\n",
      "ステップ( 790 )  loss: 5.9787 -- time: 4.5687 sec.\n",
      "ステップ( 800 )  loss: 5.9975 -- time: 4.5836 sec.\n",
      "ステップ( 810 )  loss: 5.7125 -- time: 4.6860 sec.\n",
      "ステップ( 820 )  loss: 6.5223 -- time: 4.5836 sec.\n",
      "ステップ( 830 )  loss: 6.0182 -- time: 4.6291 sec.\n",
      "ステップ( 840 )  loss: 6.0278 -- time: 4.6112 sec.\n",
      "ステップ( 850 )  loss: 5.7465 -- time: 4.6826 sec.\n",
      "ステップ( 860 )  loss: 6.2097 -- time: 4.4741 sec.\n",
      "ステップ( 870 )  loss: 6.2256 -- time: 4.5327 sec.\n",
      "ステップ( 880 )  loss: 5.9165 -- time: 4.5748 sec.\n",
      "ステップ( 890 )  loss: 6.2126 -- time: 4.5946 sec.\n",
      "--------------------------\n",
      "train_loss: 1080.9892 - val_loss: 0.0000\n",
      "time: 84.5303 sec.\n",
      "--------------------------\n",
      "Epoch 6/50\n",
      "--------------------------\n"
     ]
    },
    {
     "name": "stderr",
     "output_type": "stream",
     "text": [
      "/home/komuro/Documents/ssdbook/augmentation.py:238: VisibleDeprecationWarning: Creating an ndarray from ragged nested sequences (which is a list-or-tuple of lists-or-tuples-or ndarrays with different lengths or shapes) is deprecated. If you meant to do this, you must specify 'dtype=object' when creating the ndarray.\n",
      "  mode = random.choice(self.sample_options)\n"
     ]
    },
    {
     "name": "stdout",
     "output_type": "stream",
     "text": [
      "ステップ( 900 )  loss: 6.0143 -- time: 2.1961 sec.\n",
      "ステップ( 910 )  loss: 5.8030 -- time: 4.5045 sec.\n",
      "ステップ( 920 )  loss: 6.0682 -- time: 4.5112 sec.\n",
      "ステップ( 930 )  loss: 6.0281 -- time: 4.5869 sec.\n",
      "ステップ( 940 )  loss: 6.2251 -- time: 4.6919 sec.\n",
      "ステップ( 950 )  loss: 5.5664 -- time: 4.5174 sec.\n",
      "ステップ( 960 )  loss: 5.7490 -- time: 4.6757 sec.\n",
      "ステップ( 970 )  loss: 6.2315 -- time: 4.6455 sec.\n",
      "ステップ( 980 )  loss: 5.5670 -- time: 4.6098 sec.\n",
      "ステップ( 990 )  loss: 5.8584 -- time: 4.5725 sec.\n",
      "ステップ( 1000 )  loss: 5.3023 -- time: 4.6906 sec.\n",
      "ステップ( 1010 )  loss: 5.0324 -- time: 4.6158 sec.\n",
      "ステップ( 1020 )  loss: 5.3705 -- time: 4.6441 sec.\n",
      "ステップ( 1030 )  loss: 5.7017 -- time: 4.6325 sec.\n",
      "ステップ( 1040 )  loss: 5.9285 -- time: 4.5291 sec.\n",
      "ステップ( 1050 )  loss: 5.9960 -- time: 4.5221 sec.\n",
      "ステップ( 1060 )  loss: 6.0061 -- time: 4.6214 sec.\n",
      "ステップ( 1070 )  loss: 5.7631 -- time: 4.4406 sec.\n",
      "--------------------------\n",
      "train_loss: 1043.7151 - val_loss: 0.0000\n",
      "time: 84.7210 sec.\n",
      "--------------------------\n",
      "Epoch 7/50\n",
      "--------------------------\n"
     ]
    },
    {
     "name": "stderr",
     "output_type": "stream",
     "text": [
      "/home/komuro/Documents/ssdbook/augmentation.py:238: VisibleDeprecationWarning: Creating an ndarray from ragged nested sequences (which is a list-or-tuple of lists-or-tuples-or ndarrays with different lengths or shapes) is deprecated. If you meant to do this, you must specify 'dtype=object' when creating the ndarray.\n",
      "  mode = random.choice(self.sample_options)\n"
     ]
    },
    {
     "name": "stdout",
     "output_type": "stream",
     "text": [
      "ステップ( 1080 )  loss: 5.2961 -- time: 2.6508 sec.\n",
      "ステップ( 1090 )  loss: 6.0773 -- time: 4.6505 sec.\n",
      "ステップ( 1100 )  loss: 5.4032 -- time: 4.6872 sec.\n",
      "ステップ( 1110 )  loss: 5.3815 -- time: 4.5752 sec.\n",
      "ステップ( 1120 )  loss: 5.9478 -- time: 4.5017 sec.\n",
      "ステップ( 1130 )  loss: 5.6662 -- time: 4.5208 sec.\n",
      "ステップ( 1140 )  loss: 5.3039 -- time: 4.7183 sec.\n",
      "ステップ( 1150 )  loss: 5.4878 -- time: 4.5799 sec.\n",
      "ステップ( 1160 )  loss: 5.5884 -- time: 4.6912 sec.\n",
      "ステップ( 1170 )  loss: 5.7525 -- time: 4.6112 sec.\n",
      "ステップ( 1180 )  loss: 5.6662 -- time: 4.5743 sec.\n",
      "ステップ( 1190 )  loss: 5.6584 -- time: 4.6746 sec.\n",
      "ステップ( 1200 )  loss: 5.6745 -- time: 4.6751 sec.\n",
      "ステップ( 1210 )  loss: 5.4147 -- time: 4.6766 sec.\n",
      "ステップ( 1220 )  loss: 5.5013 -- time: 4.5744 sec.\n",
      "ステップ( 1230 )  loss: 5.9019 -- time: 4.6902 sec.\n",
      "ステップ( 1240 )  loss: 5.5643 -- time: 4.5804 sec.\n",
      "ステップ( 1250 )  loss: 6.0551 -- time: 4.5994 sec.\n",
      "--------------------------\n",
      "train_loss: 1012.7062 - val_loss: 0.0000\n",
      "time: 85.2300 sec.\n",
      "--------------------------\n",
      "Epoch 8/50\n",
      "--------------------------\n"
     ]
    },
    {
     "name": "stderr",
     "output_type": "stream",
     "text": [
      "/home/komuro/Documents/ssdbook/augmentation.py:238: VisibleDeprecationWarning: Creating an ndarray from ragged nested sequences (which is a list-or-tuple of lists-or-tuples-or ndarrays with different lengths or shapes) is deprecated. If you meant to do this, you must specify 'dtype=object' when creating the ndarray.\n",
      "  mode = random.choice(self.sample_options)\n"
     ]
    },
    {
     "name": "stdout",
     "output_type": "stream",
     "text": [
      "ステップ( 1260 )  loss: 5.5441 -- time: 3.2546 sec.\n",
      "ステップ( 1270 )  loss: 5.3848 -- time: 4.6139 sec.\n",
      "ステップ( 1280 )  loss: 5.8123 -- time: 4.7716 sec.\n",
      "ステップ( 1290 )  loss: 5.0056 -- time: 4.5541 sec.\n",
      "ステップ( 1300 )  loss: 5.7182 -- time: 4.5614 sec.\n",
      "ステップ( 1310 )  loss: 5.3651 -- time: 4.6992 sec.\n",
      "ステップ( 1320 )  loss: 5.7503 -- time: 4.4546 sec.\n",
      "ステップ( 1330 )  loss: 5.7959 -- time: 4.6311 sec.\n",
      "ステップ( 1340 )  loss: 5.1259 -- time: 4.4321 sec.\n",
      "ステップ( 1350 )  loss: 5.8922 -- time: 4.5945 sec.\n",
      "ステップ( 1360 )  loss: 5.7227 -- time: 4.5120 sec.\n",
      "ステップ( 1370 )  loss: 5.7571 -- time: 4.6293 sec.\n",
      "ステップ( 1380 )  loss: 5.8421 -- time: 4.7010 sec.\n",
      "ステップ( 1390 )  loss: 5.7256 -- time: 4.5360 sec.\n",
      "ステップ( 1400 )  loss: 5.4493 -- time: 4.5104 sec.\n",
      "ステップ( 1410 )  loss: 5.8636 -- time: 4.5299 sec.\n",
      "ステップ( 1420 )  loss: 5.8528 -- time: 4.6781 sec.\n",
      "ステップ( 1430 )  loss: 4.9957 -- time: 4.5856 sec.\n",
      "--------------------------\n",
      "train_loss: 982.3829 - val_loss: 0.0000\n",
      "time: 84.8358 sec.\n",
      "--------------------------\n",
      "Epoch 9/50\n",
      "--------------------------\n"
     ]
    },
    {
     "name": "stderr",
     "output_type": "stream",
     "text": [
      "/home/komuro/Documents/ssdbook/augmentation.py:238: VisibleDeprecationWarning: Creating an ndarray from ragged nested sequences (which is a list-or-tuple of lists-or-tuples-or ndarrays with different lengths or shapes) is deprecated. If you meant to do this, you must specify 'dtype=object' when creating the ndarray.\n",
      "  mode = random.choice(self.sample_options)\n"
     ]
    },
    {
     "name": "stdout",
     "output_type": "stream",
     "text": [
      "ステップ( 1440 )  loss: 5.3738 -- time: 3.7302 sec.\n",
      "ステップ( 1450 )  loss: 5.2394 -- time: 4.4288 sec.\n",
      "ステップ( 1460 )  loss: 5.1442 -- time: 4.6729 sec.\n",
      "ステップ( 1470 )  loss: 5.1710 -- time: 4.5694 sec.\n",
      "ステップ( 1480 )  loss: 5.5451 -- time: 4.7154 sec.\n",
      "ステップ( 1490 )  loss: 5.6188 -- time: 4.7532 sec.\n",
      "ステップ( 1500 )  loss: 4.8610 -- time: 4.5803 sec.\n",
      "ステップ( 1510 )  loss: 5.2255 -- time: 4.6408 sec.\n",
      "ステップ( 1520 )  loss: 5.1125 -- time: 4.6009 sec.\n",
      "ステップ( 1530 )  loss: 5.2437 -- time: 4.5952 sec.\n",
      "ステップ( 1540 )  loss: 5.7391 -- time: 4.5308 sec.\n",
      "ステップ( 1550 )  loss: 5.2469 -- time: 4.6581 sec.\n",
      "ステップ( 1560 )  loss: 6.0123 -- time: 4.6513 sec.\n",
      "ステップ( 1570 )  loss: 5.1956 -- time: 4.6181 sec.\n",
      "ステップ( 1580 )  loss: 5.2161 -- time: 4.5500 sec.\n",
      "ステップ( 1590 )  loss: 4.9718 -- time: 4.6424 sec.\n",
      "ステップ( 1600 )  loss: 5.3166 -- time: 4.5301 sec.\n",
      "ステップ( 1610 )  loss: 5.4465 -- time: 4.6285 sec.\n",
      "--------------------------\n",
      "train_loss: 963.3507 - val_loss: 0.0000\n",
      "time: 85.1818 sec.\n",
      "--------------------------\n",
      "Epoch 10/50\n",
      "--------------------------\n"
     ]
    },
    {
     "name": "stderr",
     "output_type": "stream",
     "text": [
      "/home/komuro/Documents/ssdbook/augmentation.py:238: VisibleDeprecationWarning: Creating an ndarray from ragged nested sequences (which is a list-or-tuple of lists-or-tuples-or ndarrays with different lengths or shapes) is deprecated. If you meant to do this, you must specify 'dtype=object' when creating the ndarray.\n",
      "  mode = random.choice(self.sample_options)\n"
     ]
    },
    {
     "name": "stdout",
     "output_type": "stream",
     "text": [
      "ステップ( 1620 )  loss: 5.2949 -- time: 4.1548 sec.\n",
      "ステップ( 1630 )  loss: 5.5235 -- time: 4.5725 sec.\n",
      "ステップ( 1640 )  loss: 5.6282 -- time: 4.5287 sec.\n",
      "ステップ( 1650 )  loss: 4.9579 -- time: 4.5985 sec.\n",
      "ステップ( 1660 )  loss: 5.0801 -- time: 4.7094 sec.\n",
      "ステップ( 1670 )  loss: 4.7383 -- time: 4.5863 sec.\n",
      "ステップ( 1680 )  loss: 5.0561 -- time: 4.5201 sec.\n",
      "ステップ( 1690 )  loss: 4.8364 -- time: 4.6285 sec.\n",
      "ステップ( 1700 )  loss: 5.3456 -- time: 4.7752 sec.\n",
      "ステップ( 1710 )  loss: 4.9080 -- time: 4.5293 sec.\n",
      "ステップ( 1720 )  loss: 5.7433 -- time: 4.6135 sec.\n",
      "ステップ( 1730 )  loss: 4.9034 -- time: 4.7283 sec.\n",
      "ステップ( 1740 )  loss: 5.0545 -- time: 4.5962 sec.\n",
      "ステップ( 1750 )  loss: 4.8574 -- time: 4.6391 sec.\n",
      "ステップ( 1760 )  loss: 5.6510 -- time: 4.5614 sec.\n",
      "ステップ( 1770 )  loss: 5.1682 -- time: 4.5740 sec.\n",
      "ステップ( 1780 )  loss: 5.7898 -- time: 4.5432 sec.\n",
      "ステップ( 1790 )  loss: 4.6723 -- time: 4.4362 sec.\n",
      "--------------------------\n",
      "validation\n",
      "--------------------------\n",
      "train_loss: 930.9293 - val_loss: 949.7343\n",
      "time: 120.5834 sec.\n",
      "--saved weights--\n",
      "--------------------------\n",
      "Epoch 11/50\n",
      "--------------------------\n"
     ]
    },
    {
     "name": "stderr",
     "output_type": "stream",
     "text": [
      "/home/komuro/Documents/ssdbook/augmentation.py:238: VisibleDeprecationWarning: Creating an ndarray from ragged nested sequences (which is a list-or-tuple of lists-or-tuples-or ndarrays with different lengths or shapes) is deprecated. If you meant to do this, you must specify 'dtype=object' when creating the ndarray.\n",
      "  mode = random.choice(self.sample_options)\n"
     ]
    },
    {
     "name": "stdout",
     "output_type": "stream",
     "text": [
      "ステップ( 1800 )  loss: 5.2516 -- time: 4.4730 sec.\n",
      "ステップ( 1810 )  loss: 4.9066 -- time: 4.6233 sec.\n",
      "ステップ( 1820 )  loss: 4.8641 -- time: 4.6784 sec.\n",
      "ステップ( 1830 )  loss: 4.1805 -- time: 4.4948 sec.\n",
      "ステップ( 1840 )  loss: 5.4683 -- time: 4.6993 sec.\n",
      "ステップ( 1850 )  loss: 5.6192 -- time: 4.6210 sec.\n",
      "ステップ( 1860 )  loss: 4.8560 -- time: 4.6504 sec.\n",
      "ステップ( 1870 )  loss: 5.3550 -- time: 4.7026 sec.\n",
      "ステップ( 1880 )  loss: 5.3414 -- time: 4.7177 sec.\n",
      "ステップ( 1890 )  loss: 4.9828 -- time: 4.5082 sec.\n",
      "ステップ( 1900 )  loss: 5.3897 -- time: 4.5663 sec.\n",
      "ステップ( 1910 )  loss: 4.6778 -- time: 4.4996 sec.\n",
      "ステップ( 1920 )  loss: 4.7339 -- time: 4.7054 sec.\n",
      "ステップ( 1930 )  loss: 5.0191 -- time: 4.7430 sec.\n",
      "ステップ( 1940 )  loss: 4.1187 -- time: 4.6233 sec.\n",
      "ステップ( 1950 )  loss: 4.4674 -- time: 4.4853 sec.\n",
      "ステップ( 1960 )  loss: 4.7916 -- time: 4.4830 sec.\n",
      "--------------------------\n",
      "train_loss: 913.7088 - val_loss: 0.0000\n",
      "time: 85.0420 sec.\n",
      "--------------------------\n",
      "Epoch 12/50\n",
      "--------------------------\n"
     ]
    },
    {
     "name": "stderr",
     "output_type": "stream",
     "text": [
      "/home/komuro/Documents/ssdbook/augmentation.py:238: VisibleDeprecationWarning: Creating an ndarray from ragged nested sequences (which is a list-or-tuple of lists-or-tuples-or ndarrays with different lengths or shapes) is deprecated. If you meant to do this, you must specify 'dtype=object' when creating the ndarray.\n",
      "  mode = random.choice(self.sample_options)\n"
     ]
    },
    {
     "name": "stdout",
     "output_type": "stream",
     "text": [
      "ステップ( 1970 )  loss: 4.9624 -- time: 0.3572 sec.\n",
      "ステップ( 1980 )  loss: 5.4724 -- time: 4.6052 sec.\n",
      "ステップ( 1990 )  loss: 5.1357 -- time: 4.6927 sec.\n",
      "ステップ( 2000 )  loss: 5.1922 -- time: 4.5548 sec.\n",
      "ステップ( 2010 )  loss: 4.8774 -- time: 4.4467 sec.\n",
      "ステップ( 2020 )  loss: 4.6121 -- time: 4.4409 sec.\n",
      "ステップ( 2030 )  loss: 5.4138 -- time: 4.5225 sec.\n",
      "ステップ( 2040 )  loss: 5.0614 -- time: 4.6039 sec.\n",
      "ステップ( 2050 )  loss: 4.9500 -- time: 4.6343 sec.\n",
      "ステップ( 2060 )  loss: 4.6027 -- time: 4.6617 sec.\n",
      "ステップ( 2070 )  loss: 4.8862 -- time: 4.6085 sec.\n",
      "ステップ( 2080 )  loss: 4.8558 -- time: 4.6744 sec.\n",
      "ステップ( 2090 )  loss: 5.1048 -- time: 4.6005 sec.\n",
      "ステップ( 2100 )  loss: 4.7023 -- time: 4.6311 sec.\n",
      "ステップ( 2110 )  loss: 5.0081 -- time: 4.7630 sec.\n",
      "ステップ( 2120 )  loss: 5.0827 -- time: 4.5106 sec.\n",
      "ステップ( 2130 )  loss: 4.8518 -- time: 4.6246 sec.\n",
      "ステップ( 2140 )  loss: 4.7013 -- time: 4.5896 sec.\n",
      "--------------------------\n",
      "train_loss: 893.2742 - val_loss: 0.0000\n",
      "time: 84.9041 sec.\n",
      "--------------------------\n",
      "Epoch 13/50\n",
      "--------------------------\n"
     ]
    },
    {
     "name": "stderr",
     "output_type": "stream",
     "text": [
      "/home/komuro/Documents/ssdbook/augmentation.py:238: VisibleDeprecationWarning: Creating an ndarray from ragged nested sequences (which is a list-or-tuple of lists-or-tuples-or ndarrays with different lengths or shapes) is deprecated. If you meant to do this, you must specify 'dtype=object' when creating the ndarray.\n",
      "  mode = random.choice(self.sample_options)\n"
     ]
    },
    {
     "name": "stdout",
     "output_type": "stream",
     "text": [
      "ステップ( 2150 )  loss: 5.3619 -- time: 0.7979 sec.\n",
      "ステップ( 2160 )  loss: 4.9745 -- time: 4.5923 sec.\n",
      "ステップ( 2170 )  loss: 4.7619 -- time: 4.7669 sec.\n",
      "ステップ( 2180 )  loss: 4.6886 -- time: 4.6193 sec.\n",
      "ステップ( 2190 )  loss: 4.8608 -- time: 4.5081 sec.\n",
      "ステップ( 2200 )  loss: 4.9503 -- time: 4.5515 sec.\n",
      "ステップ( 2210 )  loss: 5.1078 -- time: 4.7128 sec.\n",
      "ステップ( 2220 )  loss: 5.0822 -- time: 4.4657 sec.\n",
      "ステップ( 2230 )  loss: 4.9331 -- time: 4.4296 sec.\n",
      "ステップ( 2240 )  loss: 4.8894 -- time: 4.6411 sec.\n",
      "ステップ( 2250 )  loss: 4.8472 -- time: 4.5969 sec.\n",
      "ステップ( 2260 )  loss: 4.7859 -- time: 4.6627 sec.\n",
      "ステップ( 2270 )  loss: 5.1535 -- time: 4.4590 sec.\n",
      "ステップ( 2280 )  loss: 4.7126 -- time: 4.5515 sec.\n",
      "ステップ( 2290 )  loss: 4.9428 -- time: 4.6827 sec.\n",
      "ステップ( 2300 )  loss: 4.9374 -- time: 4.4871 sec.\n",
      "ステップ( 2310 )  loss: 5.5030 -- time: 4.5738 sec.\n",
      "ステップ( 2320 )  loss: 4.5114 -- time: 4.4766 sec.\n",
      "--------------------------\n",
      "train_loss: 881.4125 - val_loss: 0.0000\n",
      "time: 84.4317 sec.\n",
      "--------------------------\n",
      "Epoch 14/50\n",
      "--------------------------\n"
     ]
    },
    {
     "name": "stderr",
     "output_type": "stream",
     "text": [
      "/home/komuro/Documents/ssdbook/augmentation.py:238: VisibleDeprecationWarning: Creating an ndarray from ragged nested sequences (which is a list-or-tuple of lists-or-tuples-or ndarrays with different lengths or shapes) is deprecated. If you meant to do this, you must specify 'dtype=object' when creating the ndarray.\n",
      "  mode = random.choice(self.sample_options)\n"
     ]
    },
    {
     "name": "stdout",
     "output_type": "stream",
     "text": [
      "ステップ( 2330 )  loss: 5.2515 -- time: 1.3047 sec.\n",
      "ステップ( 2340 )  loss: 4.2709 -- time: 4.5935 sec.\n",
      "ステップ( 2350 )  loss: 4.6320 -- time: 4.4274 sec.\n",
      "ステップ( 2360 )  loss: 4.8541 -- time: 4.4916 sec.\n",
      "ステップ( 2370 )  loss: 5.0137 -- time: 4.5535 sec.\n",
      "ステップ( 2380 )  loss: 4.7963 -- time: 4.5287 sec.\n",
      "ステップ( 2390 )  loss: 5.0571 -- time: 4.5314 sec.\n",
      "ステップ( 2400 )  loss: 4.7243 -- time: 4.6145 sec.\n",
      "ステップ( 2410 )  loss: 5.2128 -- time: 4.5967 sec.\n",
      "ステップ( 2420 )  loss: 4.7747 -- time: 4.6498 sec.\n",
      "ステップ( 2430 )  loss: 4.9505 -- time: 4.5291 sec.\n",
      "ステップ( 2440 )  loss: 4.8305 -- time: 4.6532 sec.\n",
      "ステップ( 2450 )  loss: 5.2183 -- time: 4.5544 sec.\n",
      "ステップ( 2460 )  loss: 4.6489 -- time: 4.5422 sec.\n",
      "ステップ( 2470 )  loss: 4.4283 -- time: 4.6435 sec.\n",
      "ステップ( 2480 )  loss: 4.5649 -- time: 4.6829 sec.\n",
      "ステップ( 2490 )  loss: 5.1655 -- time: 4.5407 sec.\n",
      "ステップ( 2500 )  loss: 4.6470 -- time: 4.6294 sec.\n",
      "--------------------------\n",
      "train_loss: 863.4566 - val_loss: 0.0000\n",
      "time: 84.5388 sec.\n",
      "--------------------------\n",
      "Epoch 15/50\n",
      "--------------------------\n"
     ]
    },
    {
     "name": "stderr",
     "output_type": "stream",
     "text": [
      "/home/komuro/Documents/ssdbook/augmentation.py:238: VisibleDeprecationWarning: Creating an ndarray from ragged nested sequences (which is a list-or-tuple of lists-or-tuples-or ndarrays with different lengths or shapes) is deprecated. If you meant to do this, you must specify 'dtype=object' when creating the ndarray.\n",
      "  mode = random.choice(self.sample_options)\n"
     ]
    },
    {
     "name": "stdout",
     "output_type": "stream",
     "text": [
      "ステップ( 2510 )  loss: 4.6531 -- time: 1.7497 sec.\n",
      "ステップ( 2520 )  loss: 4.8170 -- time: 4.5362 sec.\n",
      "ステップ( 2530 )  loss: 4.7804 -- time: 4.5675 sec.\n",
      "ステップ( 2540 )  loss: 4.5349 -- time: 4.7160 sec.\n",
      "ステップ( 2550 )  loss: 4.8432 -- time: 4.6050 sec.\n",
      "ステップ( 2560 )  loss: 4.7045 -- time: 4.5829 sec.\n",
      "ステップ( 2570 )  loss: 4.9616 -- time: 4.5787 sec.\n",
      "ステップ( 2580 )  loss: 4.1192 -- time: 4.5612 sec.\n",
      "ステップ( 2590 )  loss: 4.4894 -- time: 4.5038 sec.\n",
      "ステップ( 2600 )  loss: 4.9522 -- time: 4.6207 sec.\n",
      "ステップ( 2610 )  loss: 4.6557 -- time: 4.7089 sec.\n",
      "ステップ( 2620 )  loss: 5.1352 -- time: 4.5965 sec.\n",
      "ステップ( 2630 )  loss: 4.8824 -- time: 4.6658 sec.\n",
      "ステップ( 2640 )  loss: 4.4273 -- time: 4.6184 sec.\n",
      "ステップ( 2650 )  loss: 5.1457 -- time: 4.4485 sec.\n",
      "ステップ( 2660 )  loss: 5.1521 -- time: 4.6034 sec.\n",
      "ステップ( 2670 )  loss: 5.0209 -- time: 4.4561 sec.\n",
      "ステップ( 2680 )  loss: 4.7733 -- time: 4.5800 sec.\n",
      "--------------------------\n",
      "train_loss: 851.7550 - val_loss: 0.0000\n",
      "time: 84.7299 sec.\n",
      "--------------------------\n",
      "Epoch 16/50\n",
      "--------------------------\n"
     ]
    },
    {
     "name": "stderr",
     "output_type": "stream",
     "text": [
      "/home/komuro/Documents/ssdbook/augmentation.py:238: VisibleDeprecationWarning: Creating an ndarray from ragged nested sequences (which is a list-or-tuple of lists-or-tuples-or ndarrays with different lengths or shapes) is deprecated. If you meant to do this, you must specify 'dtype=object' when creating the ndarray.\n",
      "  mode = random.choice(self.sample_options)\n"
     ]
    },
    {
     "name": "stdout",
     "output_type": "stream",
     "text": [
      "ステップ( 2690 )  loss: 4.4631 -- time: 2.2640 sec.\n",
      "ステップ( 2700 )  loss: 4.5718 -- time: 4.6232 sec.\n",
      "ステップ( 2710 )  loss: 4.7040 -- time: 4.6745 sec.\n",
      "ステップ( 2720 )  loss: 4.8488 -- time: 4.6523 sec.\n",
      "ステップ( 2730 )  loss: 5.0956 -- time: 4.5990 sec.\n",
      "ステップ( 2740 )  loss: 4.5005 -- time: 4.5909 sec.\n",
      "ステップ( 2750 )  loss: 4.8053 -- time: 4.4530 sec.\n",
      "ステップ( 2760 )  loss: 4.4608 -- time: 4.5729 sec.\n",
      "ステップ( 2770 )  loss: 4.9372 -- time: 4.6539 sec.\n",
      "ステップ( 2780 )  loss: 4.9214 -- time: 4.5590 sec.\n",
      "ステップ( 2790 )  loss: 4.6404 -- time: 4.5409 sec.\n",
      "ステップ( 2800 )  loss: 4.9284 -- time: 4.6003 sec.\n",
      "ステップ( 2810 )  loss: 4.7721 -- time: 4.3768 sec.\n",
      "ステップ( 2820 )  loss: 4.1989 -- time: 4.5838 sec.\n",
      "ステップ( 2830 )  loss: 5.1078 -- time: 4.6153 sec.\n",
      "ステップ( 2840 )  loss: 4.4502 -- time: 4.5673 sec.\n",
      "ステップ( 2850 )  loss: 4.5796 -- time: 4.6199 sec.\n",
      "ステップ( 2860 )  loss: 4.9167 -- time: 4.4853 sec.\n",
      "--------------------------\n",
      "train_loss: 835.5944 - val_loss: 0.0000\n",
      "time: 84.4868 sec.\n",
      "--------------------------\n",
      "Epoch 17/50\n",
      "--------------------------\n"
     ]
    },
    {
     "name": "stderr",
     "output_type": "stream",
     "text": [
      "/home/komuro/Documents/ssdbook/augmentation.py:238: VisibleDeprecationWarning: Creating an ndarray from ragged nested sequences (which is a list-or-tuple of lists-or-tuples-or ndarrays with different lengths or shapes) is deprecated. If you meant to do this, you must specify 'dtype=object' when creating the ndarray.\n",
      "  mode = random.choice(self.sample_options)\n"
     ]
    },
    {
     "name": "stdout",
     "output_type": "stream",
     "text": [
      "ステップ( 2870 )  loss: 5.3559 -- time: 2.8152 sec.\n",
      "ステップ( 2880 )  loss: 4.8463 -- time: 4.6535 sec.\n",
      "ステップ( 2890 )  loss: 4.4784 -- time: 4.6724 sec.\n",
      "ステップ( 2900 )  loss: 4.3350 -- time: 4.5895 sec.\n",
      "ステップ( 2910 )  loss: 4.9394 -- time: 4.7613 sec.\n",
      "ステップ( 2920 )  loss: 4.1692 -- time: 4.6039 sec.\n",
      "ステップ( 2930 )  loss: 5.0531 -- time: 4.6696 sec.\n",
      "ステップ( 2940 )  loss: 4.5530 -- time: 4.6081 sec.\n",
      "ステップ( 2950 )  loss: 4.5104 -- time: 4.5306 sec.\n",
      "ステップ( 2960 )  loss: 5.0828 -- time: 4.5145 sec.\n",
      "ステップ( 2970 )  loss: 4.7755 -- time: 4.7168 sec.\n",
      "ステップ( 2980 )  loss: 5.0843 -- time: 4.4456 sec.\n",
      "ステップ( 2990 )  loss: 4.7791 -- time: 4.5021 sec.\n",
      "ステップ( 3000 )  loss: 4.8083 -- time: 4.6157 sec.\n",
      "ステップ( 3010 )  loss: 4.7432 -- time: 4.5933 sec.\n",
      "ステップ( 3020 )  loss: 4.9728 -- time: 4.6394 sec.\n",
      "ステップ( 3030 )  loss: 4.5783 -- time: 4.5170 sec.\n",
      "ステップ( 3040 )  loss: 4.4582 -- time: 4.5559 sec.\n",
      "--------------------------\n",
      "train_loss: 819.4527 - val_loss: 0.0000\n",
      "time: 85.0511 sec.\n",
      "--------------------------\n",
      "Epoch 18/50\n",
      "--------------------------\n"
     ]
    },
    {
     "name": "stderr",
     "output_type": "stream",
     "text": [
      "/home/komuro/Documents/ssdbook/augmentation.py:238: VisibleDeprecationWarning: Creating an ndarray from ragged nested sequences (which is a list-or-tuple of lists-or-tuples-or ndarrays with different lengths or shapes) is deprecated. If you meant to do this, you must specify 'dtype=object' when creating the ndarray.\n",
      "  mode = random.choice(self.sample_options)\n"
     ]
    },
    {
     "name": "stdout",
     "output_type": "stream",
     "text": [
      "ステップ( 3050 )  loss: 4.7012 -- time: 3.1061 sec.\n",
      "ステップ( 3060 )  loss: 4.7676 -- time: 4.6530 sec.\n",
      "ステップ( 3070 )  loss: 4.0323 -- time: 4.7160 sec.\n",
      "ステップ( 3080 )  loss: 4.7278 -- time: 4.5928 sec.\n",
      "ステップ( 3090 )  loss: 4.4848 -- time: 4.5426 sec.\n",
      "ステップ( 3100 )  loss: 3.8017 -- time: 4.7722 sec.\n",
      "ステップ( 3110 )  loss: 4.3468 -- time: 4.5533 sec.\n",
      "ステップ( 3120 )  loss: 5.1862 -- time: 4.6858 sec.\n",
      "ステップ( 3130 )  loss: 4.8666 -- time: 4.6930 sec.\n",
      "ステップ( 3140 )  loss: 4.1126 -- time: 4.5594 sec.\n",
      "ステップ( 3150 )  loss: 4.2853 -- time: 4.6590 sec.\n",
      "ステップ( 3160 )  loss: 4.5301 -- time: 4.5764 sec.\n",
      "ステップ( 3170 )  loss: 4.0071 -- time: 4.6816 sec.\n",
      "ステップ( 3180 )  loss: 4.5599 -- time: 4.6298 sec.\n",
      "ステップ( 3190 )  loss: 4.6384 -- time: 4.5428 sec.\n",
      "ステップ( 3200 )  loss: 4.3508 -- time: 4.6782 sec.\n",
      "ステップ( 3210 )  loss: 5.0542 -- time: 4.6458 sec.\n",
      "ステップ( 3220 )  loss: 4.3100 -- time: 4.6629 sec.\n",
      "--------------------------\n",
      "train_loss: 811.5956 - val_loss: 0.0000\n",
      "time: 85.5338 sec.\n",
      "--------------------------\n",
      "Epoch 19/50\n",
      "--------------------------\n"
     ]
    },
    {
     "name": "stderr",
     "output_type": "stream",
     "text": [
      "/home/komuro/Documents/ssdbook/augmentation.py:238: VisibleDeprecationWarning: Creating an ndarray from ragged nested sequences (which is a list-or-tuple of lists-or-tuples-or ndarrays with different lengths or shapes) is deprecated. If you meant to do this, you must specify 'dtype=object' when creating the ndarray.\n",
      "  mode = random.choice(self.sample_options)\n"
     ]
    },
    {
     "name": "stdout",
     "output_type": "stream",
     "text": [
      "ステップ( 3230 )  loss: 4.1650 -- time: 3.6359 sec.\n",
      "ステップ( 3240 )  loss: 4.5581 -- time: 4.6406 sec.\n",
      "ステップ( 3250 )  loss: 4.6084 -- time: 4.5979 sec.\n",
      "ステップ( 3260 )  loss: 4.2312 -- time: 4.6694 sec.\n",
      "ステップ( 3270 )  loss: 4.4148 -- time: 4.5592 sec.\n",
      "ステップ( 3280 )  loss: 5.0618 -- time: 4.5820 sec.\n",
      "ステップ( 3290 )  loss: 4.1986 -- time: 4.5816 sec.\n",
      "ステップ( 3300 )  loss: 4.8234 -- time: 4.6046 sec.\n",
      "ステップ( 3310 )  loss: 4.5420 -- time: 4.5989 sec.\n",
      "ステップ( 3320 )  loss: 4.4090 -- time: 4.6133 sec.\n",
      "ステップ( 3330 )  loss: 4.4478 -- time: 4.5007 sec.\n",
      "ステップ( 3340 )  loss: 4.2149 -- time: 4.5715 sec.\n",
      "ステップ( 3350 )  loss: 3.7784 -- time: 4.6048 sec.\n",
      "ステップ( 3360 )  loss: 4.4246 -- time: 4.6226 sec.\n",
      "ステップ( 3370 )  loss: 4.7627 -- time: 4.6646 sec.\n",
      "ステップ( 3380 )  loss: 4.7710 -- time: 4.6214 sec.\n",
      "ステップ( 3390 )  loss: 4.5443 -- time: 4.5762 sec.\n",
      "ステップ( 3400 )  loss: 4.6274 -- time: 4.6215 sec.\n",
      "--------------------------\n",
      "train_loss: 797.0756 - val_loss: 0.0000\n",
      "time: 84.9347 sec.\n",
      "--------------------------\n",
      "Epoch 20/50\n",
      "--------------------------\n"
     ]
    },
    {
     "name": "stderr",
     "output_type": "stream",
     "text": [
      "/home/komuro/Documents/ssdbook/augmentation.py:238: VisibleDeprecationWarning: Creating an ndarray from ragged nested sequences (which is a list-or-tuple of lists-or-tuples-or ndarrays with different lengths or shapes) is deprecated. If you meant to do this, you must specify 'dtype=object' when creating the ndarray.\n",
      "  mode = random.choice(self.sample_options)\n"
     ]
    },
    {
     "name": "stdout",
     "output_type": "stream",
     "text": [
      "ステップ( 3410 )  loss: 4.5933 -- time: 4.0981 sec.\n",
      "ステップ( 3420 )  loss: 4.8417 -- time: 4.4896 sec.\n",
      "ステップ( 3430 )  loss: 4.7097 -- time: 4.7197 sec.\n",
      "ステップ( 3440 )  loss: 4.2146 -- time: 4.5847 sec.\n",
      "ステップ( 3450 )  loss: 3.4667 -- time: 4.5894 sec.\n",
      "ステップ( 3460 )  loss: 4.4984 -- time: 4.7020 sec.\n",
      "ステップ( 3470 )  loss: 4.3904 -- time: 4.6163 sec.\n",
      "ステップ( 3480 )  loss: 4.1722 -- time: 4.4731 sec.\n",
      "ステップ( 3490 )  loss: 4.2281 -- time: 4.5709 sec.\n",
      "ステップ( 3500 )  loss: 4.3091 -- time: 4.6759 sec.\n",
      "ステップ( 3510 )  loss: 4.2551 -- time: 4.7062 sec.\n",
      "ステップ( 3520 )  loss: 4.7185 -- time: 4.5857 sec.\n",
      "ステップ( 3530 )  loss: 4.6281 -- time: 4.6858 sec.\n",
      "ステップ( 3540 )  loss: 4.8526 -- time: 4.6815 sec.\n",
      "ステップ( 3550 )  loss: 4.3485 -- time: 4.5540 sec.\n",
      "ステップ( 3560 )  loss: 4.1475 -- time: 4.5451 sec.\n",
      "ステップ( 3570 )  loss: 4.3007 -- time: 4.5796 sec.\n",
      "ステップ( 3580 )  loss: 4.2229 -- time: 4.4790 sec.\n",
      "--------------------------\n",
      "validation\n",
      "--------------------------\n",
      "train_loss: 781.0389 - val_loss: 831.7384\n",
      "time: 119.2451 sec.\n",
      "--saved weights--\n",
      "--------------------------\n",
      "Epoch 21/50\n",
      "--------------------------\n"
     ]
    },
    {
     "name": "stderr",
     "output_type": "stream",
     "text": [
      "/home/komuro/Documents/ssdbook/augmentation.py:238: VisibleDeprecationWarning: Creating an ndarray from ragged nested sequences (which is a list-or-tuple of lists-or-tuples-or ndarrays with different lengths or shapes) is deprecated. If you meant to do this, you must specify 'dtype=object' when creating the ndarray.\n",
      "  mode = random.choice(self.sample_options)\n"
     ]
    },
    {
     "name": "stdout",
     "output_type": "stream",
     "text": [
      "ステップ( 3590 )  loss: 5.0688 -- time: 4.6918 sec.\n",
      "ステップ( 3600 )  loss: 4.9849 -- time: 4.7626 sec.\n",
      "ステップ( 3610 )  loss: 4.3707 -- time: 4.5959 sec.\n",
      "ステップ( 3620 )  loss: 4.7106 -- time: 4.6782 sec.\n",
      "ステップ( 3630 )  loss: 4.2034 -- time: 4.6483 sec.\n",
      "ステップ( 3640 )  loss: 3.9693 -- time: 4.8342 sec.\n",
      "ステップ( 3650 )  loss: 4.2064 -- time: 4.6916 sec.\n",
      "ステップ( 3660 )  loss: 4.6253 -- time: 4.5839 sec.\n",
      "ステップ( 3670 )  loss: 4.8955 -- time: 4.6119 sec.\n",
      "ステップ( 3680 )  loss: 4.4168 -- time: 4.6236 sec.\n",
      "ステップ( 3690 )  loss: 4.3124 -- time: 4.5410 sec.\n",
      "ステップ( 3700 )  loss: 4.7481 -- time: 4.7469 sec.\n",
      "ステップ( 3710 )  loss: 3.7952 -- time: 4.5836 sec.\n",
      "ステップ( 3720 )  loss: 4.4274 -- time: 4.5305 sec.\n",
      "ステップ( 3730 )  loss: 4.6250 -- time: 4.5570 sec.\n",
      "ステップ( 3740 )  loss: 4.1841 -- time: 4.4113 sec.\n",
      "ステップ( 3750 )  loss: 4.5301 -- time: 4.6085 sec.\n",
      "--------------------------\n",
      "train_loss: 783.9062 - val_loss: 0.0000\n",
      "time: 85.4812 sec.\n",
      "--------------------------\n",
      "Epoch 22/50\n",
      "--------------------------\n"
     ]
    },
    {
     "name": "stderr",
     "output_type": "stream",
     "text": [
      "/home/komuro/Documents/ssdbook/augmentation.py:238: VisibleDeprecationWarning: Creating an ndarray from ragged nested sequences (which is a list-or-tuple of lists-or-tuples-or ndarrays with different lengths or shapes) is deprecated. If you meant to do this, you must specify 'dtype=object' when creating the ndarray.\n",
      "  mode = random.choice(self.sample_options)\n"
     ]
    },
    {
     "name": "stdout",
     "output_type": "stream",
     "text": [
      "ステップ( 3760 )  loss: 4.1813 -- time: 0.2847 sec.\n",
      "ステップ( 3770 )  loss: 4.4514 -- time: 4.6811 sec.\n",
      "ステップ( 3780 )  loss: 3.7812 -- time: 4.5346 sec.\n",
      "ステップ( 3790 )  loss: 3.9916 -- time: 4.6229 sec.\n",
      "ステップ( 3800 )  loss: 4.3168 -- time: 4.6248 sec.\n",
      "ステップ( 3810 )  loss: 4.4416 -- time: 4.6983 sec.\n",
      "ステップ( 3820 )  loss: 4.5916 -- time: 4.5657 sec.\n",
      "ステップ( 3830 )  loss: 4.7660 -- time: 4.5933 sec.\n",
      "ステップ( 3840 )  loss: 4.3957 -- time: 4.5986 sec.\n",
      "ステップ( 3850 )  loss: 4.0334 -- time: 4.7925 sec.\n",
      "ステップ( 3860 )  loss: 3.8566 -- time: 4.6816 sec.\n",
      "ステップ( 3870 )  loss: 4.2815 -- time: 4.6307 sec.\n",
      "ステップ( 3880 )  loss: 4.2519 -- time: 4.6189 sec.\n",
      "ステップ( 3890 )  loss: 3.3995 -- time: 4.6720 sec.\n",
      "ステップ( 3900 )  loss: 4.3525 -- time: 4.5091 sec.\n",
      "ステップ( 3910 )  loss: 4.1707 -- time: 4.8980 sec.\n",
      "ステップ( 3920 )  loss: 3.8842 -- time: 4.6032 sec.\n",
      "ステップ( 3930 )  loss: 4.2947 -- time: 4.8434 sec.\n",
      "--------------------------\n",
      "train_loss: 768.9110 - val_loss: 0.0000\n",
      "time: 85.8731 sec.\n",
      "--------------------------\n",
      "Epoch 23/50\n",
      "--------------------------\n"
     ]
    },
    {
     "name": "stderr",
     "output_type": "stream",
     "text": [
      "/home/komuro/Documents/ssdbook/augmentation.py:238: VisibleDeprecationWarning: Creating an ndarray from ragged nested sequences (which is a list-or-tuple of lists-or-tuples-or ndarrays with different lengths or shapes) is deprecated. If you meant to do this, you must specify 'dtype=object' when creating the ndarray.\n",
      "  mode = random.choice(self.sample_options)\n"
     ]
    },
    {
     "name": "stdout",
     "output_type": "stream",
     "text": [
      "ステップ( 3940 )  loss: 4.2462 -- time: 0.7895 sec.\n",
      "ステップ( 3950 )  loss: 4.3987 -- time: 4.5650 sec.\n",
      "ステップ( 3960 )  loss: 4.3480 -- time: 4.5166 sec.\n",
      "ステップ( 3970 )  loss: 4.6994 -- time: 4.5974 sec.\n",
      "ステップ( 3980 )  loss: 4.3038 -- time: 4.5166 sec.\n",
      "ステップ( 3990 )  loss: 4.5750 -- time: 4.6546 sec.\n",
      "ステップ( 4000 )  loss: 5.0548 -- time: 4.5658 sec.\n",
      "ステップ( 4010 )  loss: 4.1634 -- time: 4.5545 sec.\n",
      "ステップ( 4020 )  loss: 4.2419 -- time: 4.4774 sec.\n",
      "ステップ( 4030 )  loss: 3.9989 -- time: 4.4845 sec.\n",
      "ステップ( 4040 )  loss: 4.3949 -- time: 4.5923 sec.\n",
      "ステップ( 4050 )  loss: 3.9452 -- time: 4.5076 sec.\n",
      "ステップ( 4060 )  loss: 4.6656 -- time: 4.5196 sec.\n",
      "ステップ( 4070 )  loss: 3.8466 -- time: 4.5933 sec.\n",
      "ステップ( 4080 )  loss: 3.6885 -- time: 4.5802 sec.\n",
      "ステップ( 4090 )  loss: 4.3361 -- time: 4.5487 sec.\n",
      "ステップ( 4100 )  loss: 4.1776 -- time: 4.5138 sec.\n",
      "ステップ( 4110 )  loss: 4.0946 -- time: 4.7494 sec.\n",
      "--------------------------\n",
      "train_loss: 759.3863 - val_loss: 0.0000\n",
      "time: 84.1494 sec.\n",
      "--------------------------\n",
      "Epoch 24/50\n",
      "--------------------------\n"
     ]
    },
    {
     "name": "stderr",
     "output_type": "stream",
     "text": [
      "/home/komuro/Documents/ssdbook/augmentation.py:238: VisibleDeprecationWarning: Creating an ndarray from ragged nested sequences (which is a list-or-tuple of lists-or-tuples-or ndarrays with different lengths or shapes) is deprecated. If you meant to do this, you must specify 'dtype=object' when creating the ndarray.\n",
      "  mode = random.choice(self.sample_options)\n"
     ]
    },
    {
     "name": "stdout",
     "output_type": "stream",
     "text": [
      "ステップ( 4120 )  loss: 4.3883 -- time: 1.3037 sec.\n",
      "ステップ( 4130 )  loss: 4.0639 -- time: 4.6139 sec.\n",
      "ステップ( 4140 )  loss: 4.2895 -- time: 4.6182 sec.\n",
      "ステップ( 4150 )  loss: 4.3305 -- time: 4.5180 sec.\n",
      "ステップ( 4160 )  loss: 4.5425 -- time: 4.4560 sec.\n",
      "ステップ( 4170 )  loss: 3.8619 -- time: 4.4753 sec.\n",
      "ステップ( 4180 )  loss: 4.3352 -- time: 4.5861 sec.\n",
      "ステップ( 4190 )  loss: 3.6966 -- time: 4.5914 sec.\n",
      "ステップ( 4200 )  loss: 4.2345 -- time: 4.3900 sec.\n",
      "ステップ( 4210 )  loss: 4.7157 -- time: 4.5211 sec.\n",
      "ステップ( 4220 )  loss: 3.9037 -- time: 4.6171 sec.\n",
      "ステップ( 4230 )  loss: 3.9871 -- time: 4.5606 sec.\n",
      "ステップ( 4240 )  loss: 4.1025 -- time: 4.5061 sec.\n",
      "ステップ( 4250 )  loss: 3.5834 -- time: 4.6641 sec.\n",
      "ステップ( 4260 )  loss: 4.4892 -- time: 4.6640 sec.\n",
      "ステップ( 4270 )  loss: 4.5696 -- time: 4.4426 sec.\n",
      "ステップ( 4280 )  loss: 4.0942 -- time: 4.4508 sec.\n",
      "ステップ( 4290 )  loss: 3.4576 -- time: 4.6356 sec.\n",
      "--------------------------\n",
      "train_loss: 747.5231 - val_loss: 0.0000\n",
      "time: 84.1101 sec.\n",
      "--------------------------\n",
      "Epoch 25/50\n",
      "--------------------------\n"
     ]
    },
    {
     "name": "stderr",
     "output_type": "stream",
     "text": [
      "/home/komuro/Documents/ssdbook/augmentation.py:238: VisibleDeprecationWarning: Creating an ndarray from ragged nested sequences (which is a list-or-tuple of lists-or-tuples-or ndarrays with different lengths or shapes) is deprecated. If you meant to do this, you must specify 'dtype=object' when creating the ndarray.\n",
      "  mode = random.choice(self.sample_options)\n"
     ]
    },
    {
     "name": "stdout",
     "output_type": "stream",
     "text": [
      "ステップ( 4300 )  loss: 4.5278 -- time: 1.7615 sec.\n",
      "ステップ( 4310 )  loss: 3.8689 -- time: 4.4724 sec.\n",
      "ステップ( 4320 )  loss: 3.9681 -- time: 4.5434 sec.\n",
      "ステップ( 4330 )  loss: 4.2237 -- time: 4.6382 sec.\n",
      "ステップ( 4340 )  loss: 4.1742 -- time: 4.6049 sec.\n",
      "ステップ( 4350 )  loss: 3.9307 -- time: 4.5560 sec.\n",
      "ステップ( 4360 )  loss: 4.5235 -- time: 4.5881 sec.\n",
      "ステップ( 4370 )  loss: 3.8988 -- time: 4.5580 sec.\n",
      "ステップ( 4380 )  loss: 4.4341 -- time: 4.5352 sec.\n",
      "ステップ( 4390 )  loss: 4.2727 -- time: 4.5784 sec.\n",
      "ステップ( 4400 )  loss: 4.4697 -- time: 4.6007 sec.\n",
      "ステップ( 4410 )  loss: 3.6985 -- time: 4.5989 sec.\n",
      "ステップ( 4420 )  loss: 3.8445 -- time: 4.6260 sec.\n",
      "ステップ( 4430 )  loss: 4.8690 -- time: 4.5947 sec.\n",
      "ステップ( 4440 )  loss: 4.3979 -- time: 4.6197 sec.\n",
      "ステップ( 4450 )  loss: 4.1415 -- time: 4.6188 sec.\n",
      "ステップ( 4460 )  loss: 3.9369 -- time: 4.6063 sec.\n",
      "ステップ( 4470 )  loss: 4.3324 -- time: 4.7468 sec.\n",
      "--------------------------\n",
      "train_loss: 735.4299 - val_loss: 0.0000\n",
      "time: 84.8422 sec.\n",
      "--------------------------\n",
      "Epoch 26/50\n",
      "--------------------------\n"
     ]
    },
    {
     "name": "stderr",
     "output_type": "stream",
     "text": [
      "/home/komuro/Documents/ssdbook/augmentation.py:238: VisibleDeprecationWarning: Creating an ndarray from ragged nested sequences (which is a list-or-tuple of lists-or-tuples-or ndarrays with different lengths or shapes) is deprecated. If you meant to do this, you must specify 'dtype=object' when creating the ndarray.\n",
      "  mode = random.choice(self.sample_options)\n"
     ]
    },
    {
     "name": "stdout",
     "output_type": "stream",
     "text": [
      "ステップ( 4480 )  loss: 4.4810 -- time: 2.2601 sec.\n",
      "ステップ( 4490 )  loss: 4.5269 -- time: 4.6796 sec.\n",
      "ステップ( 4500 )  loss: 4.2380 -- time: 4.5010 sec.\n",
      "ステップ( 4510 )  loss: 3.6113 -- time: 4.5791 sec.\n",
      "ステップ( 4520 )  loss: 3.8268 -- time: 4.5037 sec.\n",
      "ステップ( 4530 )  loss: 3.9113 -- time: 4.5311 sec.\n",
      "ステップ( 4540 )  loss: 3.7721 -- time: 4.6188 sec.\n",
      "ステップ( 4550 )  loss: 3.8053 -- time: 4.5484 sec.\n",
      "ステップ( 4560 )  loss: 4.0943 -- time: 4.6588 sec.\n",
      "ステップ( 4570 )  loss: 4.0814 -- time: 4.6707 sec.\n",
      "ステップ( 4580 )  loss: 4.3282 -- time: 4.6925 sec.\n",
      "ステップ( 4590 )  loss: 3.7222 -- time: 4.6090 sec.\n",
      "ステップ( 4600 )  loss: 3.8040 -- time: 4.7213 sec.\n",
      "ステップ( 4610 )  loss: 4.2226 -- time: 4.5561 sec.\n",
      "ステップ( 4620 )  loss: 3.7330 -- time: 4.5892 sec.\n",
      "ステップ( 4630 )  loss: 3.9593 -- time: 4.5758 sec.\n",
      "ステップ( 4640 )  loss: 4.1725 -- time: 4.4200 sec.\n",
      "ステップ( 4650 )  loss: 4.7040 -- time: 4.5587 sec.\n",
      "--------------------------\n",
      "train_loss: 734.1572 - val_loss: 0.0000\n",
      "time: 84.8413 sec.\n",
      "--------------------------\n",
      "Epoch 27/50\n",
      "--------------------------\n"
     ]
    },
    {
     "name": "stderr",
     "output_type": "stream",
     "text": [
      "/home/komuro/Documents/ssdbook/augmentation.py:238: VisibleDeprecationWarning: Creating an ndarray from ragged nested sequences (which is a list-or-tuple of lists-or-tuples-or ndarrays with different lengths or shapes) is deprecated. If you meant to do this, you must specify 'dtype=object' when creating the ndarray.\n",
      "  mode = random.choice(self.sample_options)\n"
     ]
    },
    {
     "name": "stdout",
     "output_type": "stream",
     "text": [
      "ステップ( 4660 )  loss: 4.3766 -- time: 2.6665 sec.\n",
      "ステップ( 4670 )  loss: 4.2168 -- time: 4.7433 sec.\n",
      "ステップ( 4680 )  loss: 3.5189 -- time: 4.5389 sec.\n",
      "ステップ( 4690 )  loss: 3.7437 -- time: 4.6429 sec.\n",
      "ステップ( 4700 )  loss: 3.9542 -- time: 4.5506 sec.\n",
      "ステップ( 4710 )  loss: 3.7196 -- time: 4.5470 sec.\n",
      "ステップ( 4720 )  loss: 3.9767 -- time: 4.4827 sec.\n",
      "ステップ( 4730 )  loss: 3.8862 -- time: 4.6468 sec.\n",
      "ステップ( 4740 )  loss: 4.1014 -- time: 4.6268 sec.\n",
      "ステップ( 4750 )  loss: 3.8729 -- time: 4.5898 sec.\n",
      "ステップ( 4760 )  loss: 4.2084 -- time: 4.5784 sec.\n",
      "ステップ( 4770 )  loss: 3.9199 -- time: 4.5773 sec.\n",
      "ステップ( 4780 )  loss: 4.3649 -- time: 4.5539 sec.\n",
      "ステップ( 4790 )  loss: 4.3164 -- time: 4.6367 sec.\n",
      "ステップ( 4800 )  loss: 4.1235 -- time: 4.4635 sec.\n",
      "ステップ( 4810 )  loss: 4.2329 -- time: 4.5040 sec.\n",
      "ステップ( 4820 )  loss: 4.0288 -- time: 4.4652 sec.\n",
      "ステップ( 4830 )  loss: 4.4437 -- time: 4.5682 sec.\n",
      "--------------------------\n",
      "train_loss: 724.0248 - val_loss: 0.0000\n",
      "time: 84.3932 sec.\n",
      "--------------------------\n",
      "Epoch 28/50\n",
      "--------------------------\n"
     ]
    },
    {
     "name": "stderr",
     "output_type": "stream",
     "text": [
      "/home/komuro/Documents/ssdbook/augmentation.py:238: VisibleDeprecationWarning: Creating an ndarray from ragged nested sequences (which is a list-or-tuple of lists-or-tuples-or ndarrays with different lengths or shapes) is deprecated. If you meant to do this, you must specify 'dtype=object' when creating the ndarray.\n",
      "  mode = random.choice(self.sample_options)\n"
     ]
    },
    {
     "name": "stdout",
     "output_type": "stream",
     "text": [
      "ステップ( 4840 )  loss: 3.9180 -- time: 3.0598 sec.\n",
      "ステップ( 4850 )  loss: 3.4465 -- time: 4.5104 sec.\n",
      "ステップ( 4860 )  loss: 3.8938 -- time: 4.4767 sec.\n",
      "ステップ( 4870 )  loss: 3.6087 -- time: 4.5505 sec.\n",
      "ステップ( 4880 )  loss: 3.9600 -- time: 4.5098 sec.\n",
      "ステップ( 4890 )  loss: 3.9606 -- time: 4.5144 sec.\n",
      "ステップ( 4900 )  loss: 4.1415 -- time: 4.6402 sec.\n",
      "ステップ( 4910 )  loss: 3.7046 -- time: 4.5759 sec.\n",
      "ステップ( 4920 )  loss: 4.0227 -- time: 4.5152 sec.\n",
      "ステップ( 4930 )  loss: 4.1852 -- time: 4.5271 sec.\n",
      "ステップ( 4940 )  loss: 3.9803 -- time: 4.6780 sec.\n",
      "ステップ( 4950 )  loss: 3.9570 -- time: 4.5141 sec.\n",
      "ステップ( 4960 )  loss: 3.7225 -- time: 4.6274 sec.\n",
      "ステップ( 4970 )  loss: 4.1974 -- time: 4.5667 sec.\n",
      "ステップ( 4980 )  loss: 4.5487 -- time: 4.6769 sec.\n",
      "ステップ( 4990 )  loss: 3.6008 -- time: 4.5777 sec.\n",
      "ステップ( 5000 )  loss: 4.1257 -- time: 4.6148 sec.\n",
      "ステップ( 5010 )  loss: 4.2187 -- time: 4.6719 sec.\n",
      "--------------------------\n",
      "train_loss: 716.1751 - val_loss: 0.0000\n",
      "time: 84.2780 sec.\n",
      "--------------------------\n",
      "Epoch 29/50\n",
      "--------------------------\n"
     ]
    },
    {
     "name": "stderr",
     "output_type": "stream",
     "text": [
      "/home/komuro/Documents/ssdbook/augmentation.py:238: VisibleDeprecationWarning: Creating an ndarray from ragged nested sequences (which is a list-or-tuple of lists-or-tuples-or ndarrays with different lengths or shapes) is deprecated. If you meant to do this, you must specify 'dtype=object' when creating the ndarray.\n",
      "  mode = random.choice(self.sample_options)\n"
     ]
    },
    {
     "name": "stdout",
     "output_type": "stream",
     "text": [
      "ステップ( 5020 )  loss: 4.5429 -- time: 3.4760 sec.\n",
      "ステップ( 5030 )  loss: 3.7487 -- time: 4.5704 sec.\n",
      "ステップ( 5040 )  loss: 4.2036 -- time: 4.5157 sec.\n",
      "ステップ( 5050 )  loss: 3.6167 -- time: 4.5440 sec.\n",
      "ステップ( 5060 )  loss: 4.1546 -- time: 4.5801 sec.\n",
      "ステップ( 5070 )  loss: 4.0362 -- time: 4.6289 sec.\n",
      "ステップ( 5080 )  loss: 4.2355 -- time: 4.6609 sec.\n",
      "ステップ( 5090 )  loss: 4.3505 -- time: 4.5887 sec.\n",
      "ステップ( 5100 )  loss: 4.3511 -- time: 4.5344 sec.\n",
      "ステップ( 5110 )  loss: 4.3647 -- time: 4.6301 sec.\n",
      "ステップ( 5120 )  loss: 3.9846 -- time: 4.4804 sec.\n",
      "ステップ( 5130 )  loss: 4.2853 -- time: 4.6449 sec.\n",
      "ステップ( 5140 )  loss: 3.5128 -- time: 4.5075 sec.\n",
      "ステップ( 5150 )  loss: 4.2489 -- time: 4.7552 sec.\n",
      "ステップ( 5160 )  loss: 3.8636 -- time: 4.6484 sec.\n",
      "ステップ( 5170 )  loss: 4.1255 -- time: 4.6482 sec.\n",
      "ステップ( 5180 )  loss: 4.2025 -- time: 4.6492 sec.\n",
      "ステップ( 5190 )  loss: 4.1375 -- time: 4.5563 sec.\n",
      "--------------------------\n",
      "train_loss: 723.3342 - val_loss: 0.0000\n",
      "time: 84.6821 sec.\n",
      "--------------------------\n",
      "Epoch 30/50\n",
      "--------------------------\n"
     ]
    },
    {
     "name": "stderr",
     "output_type": "stream",
     "text": [
      "/home/komuro/Documents/ssdbook/augmentation.py:238: VisibleDeprecationWarning: Creating an ndarray from ragged nested sequences (which is a list-or-tuple of lists-or-tuples-or ndarrays with different lengths or shapes) is deprecated. If you meant to do this, you must specify 'dtype=object' when creating the ndarray.\n",
      "  mode = random.choice(self.sample_options)\n"
     ]
    },
    {
     "name": "stdout",
     "output_type": "stream",
     "text": [
      "ステップ( 5200 )  loss: 3.9652 -- time: 4.2570 sec.\n",
      "ステップ( 5210 )  loss: 4.2174 -- time: 4.6070 sec.\n",
      "ステップ( 5220 )  loss: 4.1243 -- time: 4.6453 sec.\n",
      "ステップ( 5230 )  loss: 3.4363 -- time: 4.6216 sec.\n",
      "ステップ( 5240 )  loss: 3.5891 -- time: 4.7105 sec.\n",
      "ステップ( 5250 )  loss: 3.9638 -- time: 4.7278 sec.\n",
      "ステップ( 5260 )  loss: 4.3290 -- time: 4.5653 sec.\n",
      "ステップ( 5270 )  loss: 4.5206 -- time: 4.7007 sec.\n",
      "ステップ( 5280 )  loss: 3.4754 -- time: 4.5851 sec.\n",
      "ステップ( 5290 )  loss: 4.0219 -- time: 4.5025 sec.\n",
      "ステップ( 5300 )  loss: 4.4303 -- time: 4.4995 sec.\n",
      "ステップ( 5310 )  loss: 3.8560 -- time: 4.6780 sec.\n",
      "ステップ( 5320 )  loss: 3.7709 -- time: 4.5439 sec.\n",
      "ステップ( 5330 )  loss: 3.5472 -- time: 4.5274 sec.\n",
      "ステップ( 5340 )  loss: 3.7228 -- time: 4.5643 sec.\n",
      "ステップ( 5350 )  loss: 4.3052 -- time: 4.6813 sec.\n",
      "ステップ( 5360 )  loss: 3.4233 -- time: 4.5763 sec.\n",
      "ステップ( 5370 )  loss: 3.7374 -- time: 4.4855 sec.\n",
      "--------------------------\n",
      "validation\n",
      "--------------------------\n",
      "train_loss: 704.3084 - val_loss: 750.3317\n",
      "time: 119.4032 sec.\n",
      "--saved weights--\n",
      "--------------------------\n",
      "Epoch 31/50\n",
      "--------------------------\n"
     ]
    },
    {
     "name": "stderr",
     "output_type": "stream",
     "text": [
      "/home/komuro/Documents/ssdbook/augmentation.py:238: VisibleDeprecationWarning: Creating an ndarray from ragged nested sequences (which is a list-or-tuple of lists-or-tuples-or ndarrays with different lengths or shapes) is deprecated. If you meant to do this, you must specify 'dtype=object' when creating the ndarray.\n",
      "  mode = random.choice(self.sample_options)\n"
     ]
    },
    {
     "name": "stdout",
     "output_type": "stream",
     "text": [
      "ステップ( 5380 )  loss: 4.0021 -- time: 4.5349 sec.\n",
      "ステップ( 5390 )  loss: 4.4056 -- time: 4.5485 sec.\n",
      "ステップ( 5400 )  loss: 3.5344 -- time: 4.7161 sec.\n",
      "ステップ( 5410 )  loss: 3.8601 -- time: 4.7645 sec.\n",
      "ステップ( 5420 )  loss: 3.1611 -- time: 4.5385 sec.\n",
      "ステップ( 5430 )  loss: 3.4736 -- time: 4.6510 sec.\n",
      "ステップ( 5440 )  loss: 3.6197 -- time: 4.6017 sec.\n",
      "ステップ( 5450 )  loss: 3.9686 -- time: 4.6970 sec.\n",
      "ステップ( 5460 )  loss: 3.5121 -- time: 4.5802 sec.\n",
      "ステップ( 5470 )  loss: 3.6192 -- time: 4.7088 sec.\n",
      "ステップ( 5480 )  loss: 4.4221 -- time: 4.6591 sec.\n",
      "ステップ( 5490 )  loss: 3.6413 -- time: 4.5595 sec.\n",
      "ステップ( 5500 )  loss: 3.9566 -- time: 4.7741 sec.\n",
      "ステップ( 5510 )  loss: 3.8416 -- time: 4.6065 sec.\n",
      "ステップ( 5520 )  loss: 4.1126 -- time: 4.5956 sec.\n",
      "ステップ( 5530 )  loss: 3.8692 -- time: 4.7020 sec.\n",
      "ステップ( 5540 )  loss: 3.9907 -- time: 4.5246 sec.\n",
      "--------------------------\n",
      "train_loss: 698.9579 - val_loss: 0.0000\n",
      "time: 85.5200 sec.\n",
      "--------------------------\n",
      "Epoch 32/50\n",
      "--------------------------\n"
     ]
    },
    {
     "name": "stderr",
     "output_type": "stream",
     "text": [
      "/home/komuro/Documents/ssdbook/augmentation.py:238: VisibleDeprecationWarning: Creating an ndarray from ragged nested sequences (which is a list-or-tuple of lists-or-tuples-or ndarrays with different lengths or shapes) is deprecated. If you meant to do this, you must specify 'dtype=object' when creating the ndarray.\n",
      "  mode = random.choice(self.sample_options)\n"
     ]
    },
    {
     "name": "stdout",
     "output_type": "stream",
     "text": [
      "ステップ( 5550 )  loss: 3.4401 -- time: 0.3355 sec.\n",
      "ステップ( 5560 )  loss: 3.8024 -- time: 4.5533 sec.\n",
      "ステップ( 5570 )  loss: 3.2443 -- time: 4.4886 sec.\n",
      "ステップ( 5580 )  loss: 3.4798 -- time: 4.5924 sec.\n",
      "ステップ( 5590 )  loss: 4.2677 -- time: 4.4993 sec.\n",
      "ステップ( 5600 )  loss: 3.9863 -- time: 4.6962 sec.\n",
      "ステップ( 5610 )  loss: 3.7818 -- time: 4.6722 sec.\n",
      "ステップ( 5620 )  loss: 3.7282 -- time: 4.6104 sec.\n",
      "ステップ( 5630 )  loss: 4.3734 -- time: 4.6292 sec.\n",
      "ステップ( 5640 )  loss: 4.0610 -- time: 4.6060 sec.\n",
      "ステップ( 5650 )  loss: 3.5746 -- time: 4.7668 sec.\n",
      "ステップ( 5660 )  loss: 3.4150 -- time: 4.5974 sec.\n",
      "ステップ( 5670 )  loss: 3.4925 -- time: 4.4919 sec.\n",
      "ステップ( 5680 )  loss: 3.3650 -- time: 4.6301 sec.\n",
      "ステップ( 5690 )  loss: 3.9053 -- time: 4.5702 sec.\n",
      "ステップ( 5700 )  loss: 4.0243 -- time: 4.5800 sec.\n",
      "ステップ( 5710 )  loss: 4.3522 -- time: 4.7172 sec.\n",
      "ステップ( 5720 )  loss: 3.6805 -- time: 4.5295 sec.\n",
      "--------------------------\n",
      "train_loss: 688.5529 - val_loss: 0.0000\n",
      "time: 84.9976 sec.\n",
      "--------------------------\n",
      "Epoch 33/50\n",
      "--------------------------\n"
     ]
    },
    {
     "name": "stderr",
     "output_type": "stream",
     "text": [
      "/home/komuro/Documents/ssdbook/augmentation.py:238: VisibleDeprecationWarning: Creating an ndarray from ragged nested sequences (which is a list-or-tuple of lists-or-tuples-or ndarrays with different lengths or shapes) is deprecated. If you meant to do this, you must specify 'dtype=object' when creating the ndarray.\n",
      "  mode = random.choice(self.sample_options)\n"
     ]
    },
    {
     "name": "stdout",
     "output_type": "stream",
     "text": [
      "ステップ( 5730 )  loss: 4.0547 -- time: 0.8091 sec.\n",
      "ステップ( 5740 )  loss: 4.3741 -- time: 4.5665 sec.\n",
      "ステップ( 5750 )  loss: 3.6787 -- time: 4.6232 sec.\n",
      "ステップ( 5760 )  loss: 4.1608 -- time: 4.5150 sec.\n",
      "ステップ( 5770 )  loss: 4.1357 -- time: 4.5905 sec.\n",
      "ステップ( 5780 )  loss: 4.1770 -- time: 4.6748 sec.\n",
      "ステップ( 5790 )  loss: 3.6939 -- time: 4.5333 sec.\n",
      "ステップ( 5800 )  loss: 3.9044 -- time: 4.6337 sec.\n",
      "ステップ( 5810 )  loss: 3.7322 -- time: 4.7545 sec.\n",
      "ステップ( 5820 )  loss: 3.4819 -- time: 4.5321 sec.\n",
      "ステップ( 5830 )  loss: 3.3269 -- time: 4.5704 sec.\n",
      "ステップ( 5840 )  loss: 3.9520 -- time: 4.6244 sec.\n",
      "ステップ( 5850 )  loss: 3.7672 -- time: 4.5513 sec.\n",
      "ステップ( 5860 )  loss: 3.5440 -- time: 4.5611 sec.\n",
      "ステップ( 5870 )  loss: 4.2783 -- time: 4.5295 sec.\n",
      "ステップ( 5880 )  loss: 3.9719 -- time: 4.4456 sec.\n",
      "ステップ( 5890 )  loss: 4.1218 -- time: 4.7007 sec.\n",
      "ステップ( 5900 )  loss: 4.2827 -- time: 4.6351 sec.\n",
      "--------------------------\n",
      "train_loss: 694.5821 - val_loss: 0.0000\n",
      "time: 84.7935 sec.\n",
      "--------------------------\n",
      "Epoch 34/50\n",
      "--------------------------\n"
     ]
    },
    {
     "name": "stderr",
     "output_type": "stream",
     "text": [
      "/home/komuro/Documents/ssdbook/augmentation.py:238: VisibleDeprecationWarning: Creating an ndarray from ragged nested sequences (which is a list-or-tuple of lists-or-tuples-or ndarrays with different lengths or shapes) is deprecated. If you meant to do this, you must specify 'dtype=object' when creating the ndarray.\n",
      "  mode = random.choice(self.sample_options)\n"
     ]
    },
    {
     "name": "stdout",
     "output_type": "stream",
     "text": [
      "ステップ( 5910 )  loss: 3.7947 -- time: 1.2414 sec.\n",
      "ステップ( 5920 )  loss: 3.9730 -- time: 4.5599 sec.\n",
      "ステップ( 5930 )  loss: 3.5893 -- time: 4.6835 sec.\n",
      "ステップ( 5940 )  loss: 3.4964 -- time: 4.5658 sec.\n",
      "ステップ( 5950 )  loss: 3.4799 -- time: 4.5409 sec.\n",
      "ステップ( 5960 )  loss: 3.8708 -- time: 4.5040 sec.\n",
      "ステップ( 5970 )  loss: 3.3832 -- time: 4.5670 sec.\n",
      "ステップ( 5980 )  loss: 3.9003 -- time: 4.5796 sec.\n",
      "ステップ( 5990 )  loss: 3.9154 -- time: 4.6059 sec.\n",
      "ステップ( 6000 )  loss: 3.5408 -- time: 4.6152 sec.\n",
      "ステップ( 6010 )  loss: 4.0635 -- time: 4.6885 sec.\n",
      "ステップ( 6020 )  loss: 3.6264 -- time: 4.5486 sec.\n",
      "ステップ( 6030 )  loss: 3.9281 -- time: 4.5444 sec.\n",
      "ステップ( 6040 )  loss: 3.5906 -- time: 4.5572 sec.\n",
      "ステップ( 6050 )  loss: 4.1386 -- time: 4.6622 sec.\n",
      "ステップ( 6060 )  loss: 3.8671 -- time: 4.5698 sec.\n",
      "ステップ( 6070 )  loss: 3.7172 -- time: 4.5000 sec.\n",
      "ステップ( 6080 )  loss: 3.8563 -- time: 4.6957 sec.\n",
      "--------------------------\n",
      "train_loss: 681.8528 - val_loss: 0.0000\n",
      "time: 84.7057 sec.\n",
      "--------------------------\n",
      "Epoch 35/50\n",
      "--------------------------\n"
     ]
    },
    {
     "name": "stderr",
     "output_type": "stream",
     "text": [
      "/home/komuro/Documents/ssdbook/augmentation.py:238: VisibleDeprecationWarning: Creating an ndarray from ragged nested sequences (which is a list-or-tuple of lists-or-tuples-or ndarrays with different lengths or shapes) is deprecated. If you meant to do this, you must specify 'dtype=object' when creating the ndarray.\n",
      "  mode = random.choice(self.sample_options)\n"
     ]
    },
    {
     "name": "stdout",
     "output_type": "stream",
     "text": [
      "ステップ( 6090 )  loss: 3.5119 -- time: 1.7992 sec.\n",
      "ステップ( 6100 )  loss: 4.0213 -- time: 4.6664 sec.\n",
      "ステップ( 6110 )  loss: 3.7444 -- time: 4.4663 sec.\n",
      "ステップ( 6120 )  loss: 3.6966 -- time: 4.5490 sec.\n",
      "ステップ( 6130 )  loss: 3.9950 -- time: 4.4637 sec.\n",
      "ステップ( 6140 )  loss: 3.8738 -- time: 4.4499 sec.\n",
      "ステップ( 6150 )  loss: 3.2883 -- time: 4.4975 sec.\n",
      "ステップ( 6160 )  loss: 3.6130 -- time: 4.6746 sec.\n",
      "ステップ( 6170 )  loss: 4.2373 -- time: 4.6145 sec.\n",
      "ステップ( 6180 )  loss: 3.4932 -- time: 4.5304 sec.\n",
      "ステップ( 6190 )  loss: 3.7544 -- time: 4.5948 sec.\n",
      "ステップ( 6200 )  loss: 4.2941 -- time: 4.6783 sec.\n",
      "ステップ( 6210 )  loss: 4.1193 -- time: 4.5224 sec.\n",
      "ステップ( 6220 )  loss: 4.4547 -- time: 4.5595 sec.\n",
      "ステップ( 6230 )  loss: 3.6971 -- time: 4.5474 sec.\n",
      "ステップ( 6240 )  loss: 3.8696 -- time: 4.6468 sec.\n",
      "ステップ( 6250 )  loss: 4.6396 -- time: 4.3733 sec.\n",
      "ステップ( 6260 )  loss: 3.8860 -- time: 4.6424 sec.\n",
      "--------------------------\n",
      "train_loss: 672.7810 - val_loss: 0.0000\n",
      "time: 84.2760 sec.\n",
      "--------------------------\n",
      "Epoch 36/50\n",
      "--------------------------\n"
     ]
    },
    {
     "name": "stderr",
     "output_type": "stream",
     "text": [
      "/home/komuro/Documents/ssdbook/augmentation.py:238: VisibleDeprecationWarning: Creating an ndarray from ragged nested sequences (which is a list-or-tuple of lists-or-tuples-or ndarrays with different lengths or shapes) is deprecated. If you meant to do this, you must specify 'dtype=object' when creating the ndarray.\n",
      "  mode = random.choice(self.sample_options)\n"
     ]
    },
    {
     "name": "stdout",
     "output_type": "stream",
     "text": [
      "ステップ( 6270 )  loss: 4.0826 -- time: 2.1849 sec.\n",
      "ステップ( 6280 )  loss: 4.0242 -- time: 4.6156 sec.\n",
      "ステップ( 6290 )  loss: 3.5877 -- time: 4.6099 sec.\n",
      "ステップ( 6300 )  loss: 3.3948 -- time: 4.4622 sec.\n",
      "ステップ( 6310 )  loss: 3.8196 -- time: 4.7334 sec.\n",
      "ステップ( 6320 )  loss: 4.5280 -- time: 4.5002 sec.\n",
      "ステップ( 6330 )  loss: 3.3218 -- time: 4.4825 sec.\n",
      "ステップ( 6340 )  loss: 4.1856 -- time: 4.5247 sec.\n",
      "ステップ( 6350 )  loss: 4.0252 -- time: 4.6460 sec.\n",
      "ステップ( 6360 )  loss: 3.3979 -- time: 4.6228 sec.\n",
      "ステップ( 6370 )  loss: 4.1243 -- time: 4.4663 sec.\n",
      "ステップ( 6380 )  loss: 4.0132 -- time: 4.5411 sec.\n",
      "ステップ( 6390 )  loss: 3.7607 -- time: 4.5913 sec.\n",
      "ステップ( 6400 )  loss: 3.6419 -- time: 4.4395 sec.\n",
      "ステップ( 6410 )  loss: 3.9267 -- time: 4.7885 sec.\n",
      "ステップ( 6420 )  loss: 3.6996 -- time: 4.5384 sec.\n",
      "ステップ( 6430 )  loss: 3.4440 -- time: 4.6213 sec.\n",
      "ステップ( 6440 )  loss: 3.2106 -- time: 4.6729 sec.\n",
      "--------------------------\n",
      "train_loss: 670.5767 - val_loss: 0.0000\n",
      "time: 84.5639 sec.\n",
      "--------------------------\n",
      "Epoch 37/50\n",
      "--------------------------\n"
     ]
    },
    {
     "name": "stderr",
     "output_type": "stream",
     "text": [
      "/home/komuro/Documents/ssdbook/augmentation.py:238: VisibleDeprecationWarning: Creating an ndarray from ragged nested sequences (which is a list-or-tuple of lists-or-tuples-or ndarrays with different lengths or shapes) is deprecated. If you meant to do this, you must specify 'dtype=object' when creating the ndarray.\n",
      "  mode = random.choice(self.sample_options)\n"
     ]
    },
    {
     "name": "stdout",
     "output_type": "stream",
     "text": [
      "ステップ( 6450 )  loss: 4.0123 -- time: 2.6669 sec.\n",
      "ステップ( 6460 )  loss: 3.6071 -- time: 4.6884 sec.\n",
      "ステップ( 6470 )  loss: 3.4384 -- time: 4.6966 sec.\n",
      "ステップ( 6480 )  loss: 4.0620 -- time: 4.6398 sec.\n",
      "ステップ( 6490 )  loss: 3.3377 -- time: 4.5382 sec.\n",
      "ステップ( 6500 )  loss: 4.0394 -- time: 4.5732 sec.\n",
      "ステップ( 6510 )  loss: 3.7356 -- time: 4.5067 sec.\n",
      "ステップ( 6520 )  loss: 4.1449 -- time: 4.6625 sec.\n",
      "ステップ( 6530 )  loss: 3.4882 -- time: 4.5409 sec.\n",
      "ステップ( 6540 )  loss: 4.1158 -- time: 4.7398 sec.\n",
      "ステップ( 6550 )  loss: 3.6442 -- time: 4.4752 sec.\n",
      "ステップ( 6560 )  loss: 3.0275 -- time: 4.5447 sec.\n",
      "ステップ( 6570 )  loss: 4.2695 -- time: 4.6548 sec.\n",
      "ステップ( 6580 )  loss: 3.6975 -- time: 4.6378 sec.\n",
      "ステップ( 6590 )  loss: 3.7206 -- time: 4.5907 sec.\n",
      "ステップ( 6600 )  loss: 3.8567 -- time: 4.6629 sec.\n",
      "ステップ( 6610 )  loss: 3.9490 -- time: 4.5393 sec.\n",
      "ステップ( 6620 )  loss: 3.6413 -- time: 4.4962 sec.\n",
      "--------------------------\n",
      "train_loss: 670.3894 - val_loss: 0.0000\n",
      "time: 84.8959 sec.\n",
      "--------------------------\n",
      "Epoch 38/50\n",
      "--------------------------\n"
     ]
    },
    {
     "name": "stderr",
     "output_type": "stream",
     "text": [
      "/home/komuro/Documents/ssdbook/augmentation.py:238: VisibleDeprecationWarning: Creating an ndarray from ragged nested sequences (which is a list-or-tuple of lists-or-tuples-or ndarrays with different lengths or shapes) is deprecated. If you meant to do this, you must specify 'dtype=object' when creating the ndarray.\n",
      "  mode = random.choice(self.sample_options)\n"
     ]
    },
    {
     "name": "stdout",
     "output_type": "stream",
     "text": [
      "ステップ( 6630 )  loss: 3.4579 -- time: 3.0273 sec.\n",
      "ステップ( 6640 )  loss: 3.3864 -- time: 4.4439 sec.\n",
      "ステップ( 6650 )  loss: 3.5680 -- time: 4.5726 sec.\n",
      "ステップ( 6660 )  loss: 3.0887 -- time: 4.6103 sec.\n",
      "ステップ( 6670 )  loss: 3.4781 -- time: 4.4727 sec.\n",
      "ステップ( 6680 )  loss: 3.6711 -- time: 4.5002 sec.\n",
      "ステップ( 6690 )  loss: 3.3883 -- time: 4.4897 sec.\n",
      "ステップ( 6700 )  loss: 3.9978 -- time: 4.5949 sec.\n",
      "ステップ( 6710 )  loss: 3.7721 -- time: 4.4314 sec.\n",
      "ステップ( 6720 )  loss: 3.5797 -- time: 4.7201 sec.\n",
      "ステップ( 6730 )  loss: 4.2778 -- time: 4.5676 sec.\n",
      "ステップ( 6740 )  loss: 3.6169 -- time: 4.5485 sec.\n",
      "ステップ( 6750 )  loss: 3.4184 -- time: 4.5361 sec.\n",
      "ステップ( 6760 )  loss: 3.7346 -- time: 4.6066 sec.\n",
      "ステップ( 6770 )  loss: 3.3329 -- time: 4.4808 sec.\n",
      "ステップ( 6780 )  loss: 3.7993 -- time: 4.4148 sec.\n",
      "ステップ( 6790 )  loss: 3.8351 -- time: 4.6222 sec.\n",
      "ステップ( 6800 )  loss: 3.5836 -- time: 4.5801 sec.\n",
      "--------------------------\n",
      "train_loss: 657.0411 - val_loss: 0.0000\n",
      "time: 83.7781 sec.\n",
      "--------------------------\n",
      "Epoch 39/50\n",
      "--------------------------\n"
     ]
    },
    {
     "name": "stderr",
     "output_type": "stream",
     "text": [
      "/home/komuro/Documents/ssdbook/augmentation.py:238: VisibleDeprecationWarning: Creating an ndarray from ragged nested sequences (which is a list-or-tuple of lists-or-tuples-or ndarrays with different lengths or shapes) is deprecated. If you meant to do this, you must specify 'dtype=object' when creating the ndarray.\n",
      "  mode = random.choice(self.sample_options)\n"
     ]
    },
    {
     "name": "stdout",
     "output_type": "stream",
     "text": [
      "ステップ( 6810 )  loss: 3.4300 -- time: 3.6505 sec.\n",
      "ステップ( 6820 )  loss: 3.1071 -- time: 4.5786 sec.\n",
      "ステップ( 6830 )  loss: 3.8833 -- time: 4.4120 sec.\n",
      "ステップ( 6840 )  loss: 4.0477 -- time: 4.5450 sec.\n",
      "ステップ( 6850 )  loss: 3.9688 -- time: 4.5743 sec.\n",
      "ステップ( 6860 )  loss: 3.9486 -- time: 4.6688 sec.\n",
      "ステップ( 6870 )  loss: 4.0161 -- time: 4.4814 sec.\n",
      "ステップ( 6880 )  loss: 3.4740 -- time: 4.5848 sec.\n",
      "ステップ( 6890 )  loss: 3.6832 -- time: 4.6686 sec.\n",
      "ステップ( 6900 )  loss: 3.5284 -- time: 4.6116 sec.\n",
      "ステップ( 6910 )  loss: 3.8216 -- time: 4.6045 sec.\n",
      "ステップ( 6920 )  loss: 3.9615 -- time: 4.5826 sec.\n",
      "ステップ( 6930 )  loss: 4.2697 -- time: 4.6031 sec.\n",
      "ステップ( 6940 )  loss: 3.9731 -- time: 4.5460 sec.\n",
      "ステップ( 6950 )  loss: 3.2612 -- time: 4.5157 sec.\n",
      "ステップ( 6960 )  loss: 4.2361 -- time: 4.5985 sec.\n",
      "ステップ( 6970 )  loss: 3.2636 -- time: 4.5891 sec.\n",
      "ステップ( 6980 )  loss: 3.4581 -- time: 4.5550 sec.\n",
      "--------------------------\n",
      "train_loss: 658.0869 - val_loss: 0.0000\n",
      "time: 84.4398 sec.\n",
      "--------------------------\n",
      "Epoch 40/50\n",
      "--------------------------\n"
     ]
    },
    {
     "name": "stderr",
     "output_type": "stream",
     "text": [
      "/home/komuro/Documents/ssdbook/augmentation.py:238: VisibleDeprecationWarning: Creating an ndarray from ragged nested sequences (which is a list-or-tuple of lists-or-tuples-or ndarrays with different lengths or shapes) is deprecated. If you meant to do this, you must specify 'dtype=object' when creating the ndarray.\n",
      "  mode = random.choice(self.sample_options)\n"
     ]
    },
    {
     "name": "stdout",
     "output_type": "stream",
     "text": [
      "ステップ( 6990 )  loss: 3.3703 -- time: 4.2290 sec.\n",
      "ステップ( 7000 )  loss: 3.5247 -- time: 4.5468 sec.\n",
      "ステップ( 7010 )  loss: 3.5830 -- time: 4.5845 sec.\n",
      "ステップ( 7020 )  loss: 3.9175 -- time: 4.6045 sec.\n",
      "ステップ( 7030 )  loss: 3.8466 -- time: 4.4882 sec.\n",
      "ステップ( 7040 )  loss: 3.5046 -- time: 4.7232 sec.\n",
      "ステップ( 7050 )  loss: 3.2045 -- time: 4.4585 sec.\n",
      "ステップ( 7060 )  loss: 3.2877 -- time: 4.5028 sec.\n",
      "ステップ( 7070 )  loss: 3.4222 -- time: 4.5216 sec.\n",
      "ステップ( 7080 )  loss: 3.6754 -- time: 4.6157 sec.\n",
      "ステップ( 7090 )  loss: 3.6750 -- time: 4.5306 sec.\n",
      "ステップ( 7100 )  loss: 3.6563 -- time: 4.5048 sec.\n",
      "ステップ( 7110 )  loss: 4.2608 -- time: 4.4923 sec.\n",
      "ステップ( 7120 )  loss: 3.1699 -- time: 4.5483 sec.\n",
      "ステップ( 7130 )  loss: 3.5429 -- time: 4.5637 sec.\n",
      "ステップ( 7140 )  loss: 4.0641 -- time: 4.5065 sec.\n",
      "ステップ( 7150 )  loss: 3.8736 -- time: 4.4120 sec.\n",
      "ステップ( 7160 )  loss: 3.6658 -- time: 4.4602 sec.\n",
      "--------------------------\n",
      "validation\n",
      "--------------------------\n",
      "train_loss: 652.4686 - val_loss: 703.8986\n",
      "time: 117.6564 sec.\n",
      "--saved weights--\n",
      "--------------------------\n",
      "Epoch 41/50\n",
      "--------------------------\n"
     ]
    },
    {
     "name": "stderr",
     "output_type": "stream",
     "text": [
      "/home/komuro/Documents/ssdbook/augmentation.py:238: VisibleDeprecationWarning: Creating an ndarray from ragged nested sequences (which is a list-or-tuple of lists-or-tuples-or ndarrays with different lengths or shapes) is deprecated. If you meant to do this, you must specify 'dtype=object' when creating the ndarray.\n",
      "  mode = random.choice(self.sample_options)\n"
     ]
    },
    {
     "name": "stdout",
     "output_type": "stream",
     "text": [
      "ステップ( 7170 )  loss: 3.1365 -- time: 4.5898 sec.\n",
      "ステップ( 7180 )  loss: 3.6796 -- time: 4.5127 sec.\n",
      "ステップ( 7190 )  loss: 3.6502 -- time: 4.5381 sec.\n",
      "ステップ( 7200 )  loss: 4.2660 -- time: 4.6504 sec.\n",
      "ステップ( 7210 )  loss: 3.3172 -- time: 4.5702 sec.\n",
      "ステップ( 7220 )  loss: 3.5849 -- time: 4.5177 sec.\n",
      "ステップ( 7230 )  loss: 3.4020 -- time: 4.6385 sec.\n",
      "ステップ( 7240 )  loss: 3.5575 -- time: 4.4814 sec.\n",
      "ステップ( 7250 )  loss: 4.0013 -- time: 4.5863 sec.\n",
      "ステップ( 7260 )  loss: 3.5191 -- time: 4.6660 sec.\n",
      "ステップ( 7270 )  loss: 3.5238 -- time: 4.4910 sec.\n",
      "ステップ( 7280 )  loss: 3.3915 -- time: 4.6149 sec.\n",
      "ステップ( 7290 )  loss: 3.7929 -- time: 4.7225 sec.\n",
      "ステップ( 7300 )  loss: 3.5743 -- time: 4.5163 sec.\n",
      "ステップ( 7310 )  loss: 4.0652 -- time: 4.4995 sec.\n",
      "ステップ( 7320 )  loss: 3.8469 -- time: 4.4903 sec.\n",
      "ステップ( 7330 )  loss: 4.1166 -- time: 4.5037 sec.\n",
      "--------------------------\n",
      "train_loss: 647.8669 - val_loss: 0.0000\n",
      "time: 84.3799 sec.\n",
      "--------------------------\n",
      "Epoch 42/50\n",
      "--------------------------\n"
     ]
    },
    {
     "name": "stderr",
     "output_type": "stream",
     "text": [
      "/home/komuro/Documents/ssdbook/augmentation.py:238: VisibleDeprecationWarning: Creating an ndarray from ragged nested sequences (which is a list-or-tuple of lists-or-tuples-or ndarrays with different lengths or shapes) is deprecated. If you meant to do this, you must specify 'dtype=object' when creating the ndarray.\n",
      "  mode = random.choice(self.sample_options)\n"
     ]
    },
    {
     "name": "stdout",
     "output_type": "stream",
     "text": [
      "ステップ( 7340 )  loss: 4.1443 -- time: 0.3144 sec.\n",
      "ステップ( 7350 )  loss: 4.0333 -- time: 4.6128 sec.\n",
      "ステップ( 7360 )  loss: 3.3656 -- time: 4.4315 sec.\n",
      "ステップ( 7370 )  loss: 3.1419 -- time: 4.5568 sec.\n",
      "ステップ( 7380 )  loss: 3.4717 -- time: 4.6211 sec.\n",
      "ステップ( 7390 )  loss: 3.5934 -- time: 4.5443 sec.\n",
      "ステップ( 7400 )  loss: 4.1511 -- time: 4.6872 sec.\n",
      "ステップ( 7410 )  loss: 3.7977 -- time: 4.4853 sec.\n",
      "ステップ( 7420 )  loss: 3.4722 -- time: 4.5293 sec.\n",
      "ステップ( 7430 )  loss: 3.4390 -- time: 4.5329 sec.\n",
      "ステップ( 7440 )  loss: 3.2941 -- time: 4.5881 sec.\n",
      "ステップ( 7450 )  loss: 3.3215 -- time: 4.5612 sec.\n",
      "ステップ( 7460 )  loss: 4.1159 -- time: 4.6681 sec.\n",
      "ステップ( 7470 )  loss: 3.9323 -- time: 4.5560 sec.\n",
      "ステップ( 7480 )  loss: 3.4914 -- time: 4.4822 sec.\n",
      "ステップ( 7490 )  loss: 4.1271 -- time: 4.6165 sec.\n",
      "ステップ( 7500 )  loss: 3.3239 -- time: 4.3558 sec.\n",
      "ステップ( 7510 )  loss: 3.4644 -- time: 4.5947 sec.\n",
      "--------------------------\n",
      "train_loss: 638.9175 - val_loss: 0.0000\n",
      "time: 84.1909 sec.\n",
      "--------------------------\n",
      "Epoch 43/50\n",
      "--------------------------\n"
     ]
    },
    {
     "name": "stderr",
     "output_type": "stream",
     "text": [
      "/home/komuro/Documents/ssdbook/augmentation.py:238: VisibleDeprecationWarning: Creating an ndarray from ragged nested sequences (which is a list-or-tuple of lists-or-tuples-or ndarrays with different lengths or shapes) is deprecated. If you meant to do this, you must specify 'dtype=object' when creating the ndarray.\n",
      "  mode = random.choice(self.sample_options)\n"
     ]
    },
    {
     "name": "stdout",
     "output_type": "stream",
     "text": [
      "ステップ( 7520 )  loss: 3.5480 -- time: 0.8070 sec.\n",
      "ステップ( 7530 )  loss: 3.8924 -- time: 4.7348 sec.\n",
      "ステップ( 7540 )  loss: 3.3686 -- time: 4.4699 sec.\n",
      "ステップ( 7550 )  loss: 3.4935 -- time: 4.5699 sec.\n",
      "ステップ( 7560 )  loss: 3.8470 -- time: 4.5352 sec.\n",
      "ステップ( 7570 )  loss: 3.3836 -- time: 4.6110 sec.\n",
      "ステップ( 7580 )  loss: 3.8305 -- time: 4.7220 sec.\n",
      "ステップ( 7590 )  loss: 4.0612 -- time: 4.5034 sec.\n",
      "ステップ( 7600 )  loss: 3.3899 -- time: 4.4578 sec.\n",
      "ステップ( 7610 )  loss: 3.4023 -- time: 4.5521 sec.\n",
      "ステップ( 7620 )  loss: 3.6134 -- time: 4.5453 sec.\n",
      "ステップ( 7630 )  loss: 3.7867 -- time: 4.6234 sec.\n",
      "ステップ( 7640 )  loss: 3.2676 -- time: 4.5589 sec.\n",
      "ステップ( 7650 )  loss: 3.7403 -- time: 4.6186 sec.\n",
      "ステップ( 7660 )  loss: 3.4918 -- time: 4.6244 sec.\n",
      "ステップ( 7670 )  loss: 3.6940 -- time: 4.7237 sec.\n",
      "ステップ( 7680 )  loss: 3.4226 -- time: 4.6070 sec.\n",
      "ステップ( 7690 )  loss: 3.1781 -- time: 4.4504 sec.\n",
      "--------------------------\n",
      "train_loss: 640.8934 - val_loss: 0.0000\n",
      "time: 84.6205 sec.\n",
      "--------------------------\n",
      "Epoch 44/50\n",
      "--------------------------\n"
     ]
    },
    {
     "name": "stderr",
     "output_type": "stream",
     "text": [
      "/home/komuro/Documents/ssdbook/augmentation.py:238: VisibleDeprecationWarning: Creating an ndarray from ragged nested sequences (which is a list-or-tuple of lists-or-tuples-or ndarrays with different lengths or shapes) is deprecated. If you meant to do this, you must specify 'dtype=object' when creating the ndarray.\n",
      "  mode = random.choice(self.sample_options)\n"
     ]
    },
    {
     "name": "stdout",
     "output_type": "stream",
     "text": [
      "ステップ( 7700 )  loss: 3.4610 -- time: 1.2561 sec.\n",
      "ステップ( 7710 )  loss: 3.3722 -- time: 4.6332 sec.\n",
      "ステップ( 7720 )  loss: 3.7885 -- time: 4.5564 sec.\n",
      "ステップ( 7730 )  loss: 3.1228 -- time: 4.6215 sec.\n",
      "ステップ( 7740 )  loss: 2.9217 -- time: 4.5168 sec.\n",
      "ステップ( 7750 )  loss: 4.2216 -- time: 4.7243 sec.\n",
      "ステップ( 7760 )  loss: 2.9706 -- time: 4.5025 sec.\n",
      "ステップ( 7770 )  loss: 3.7562 -- time: 4.6738 sec.\n",
      "ステップ( 7780 )  loss: 3.3446 -- time: 4.6355 sec.\n",
      "ステップ( 7790 )  loss: 3.6063 -- time: 4.5116 sec.\n",
      "ステップ( 7800 )  loss: 3.4964 -- time: 4.6980 sec.\n",
      "ステップ( 7810 )  loss: 3.2626 -- time: 4.5855 sec.\n",
      "ステップ( 7820 )  loss: 3.8746 -- time: 4.7143 sec.\n",
      "ステップ( 7830 )  loss: 3.5855 -- time: 4.6009 sec.\n",
      "ステップ( 7840 )  loss: 3.9464 -- time: 4.5435 sec.\n",
      "ステップ( 7850 )  loss: 3.5938 -- time: 4.5650 sec.\n",
      "ステップ( 7860 )  loss: 3.4158 -- time: 4.5821 sec.\n",
      "ステップ( 7870 )  loss: 3.8375 -- time: 4.7101 sec.\n",
      "--------------------------\n",
      "train_loss: 635.6615 - val_loss: 0.0000\n",
      "time: 85.1885 sec.\n",
      "--------------------------\n",
      "Epoch 45/50\n",
      "--------------------------\n"
     ]
    },
    {
     "name": "stderr",
     "output_type": "stream",
     "text": [
      "/home/komuro/Documents/ssdbook/augmentation.py:238: VisibleDeprecationWarning: Creating an ndarray from ragged nested sequences (which is a list-or-tuple of lists-or-tuples-or ndarrays with different lengths or shapes) is deprecated. If you meant to do this, you must specify 'dtype=object' when creating the ndarray.\n",
      "  mode = random.choice(self.sample_options)\n"
     ]
    },
    {
     "name": "stdout",
     "output_type": "stream",
     "text": [
      "ステップ( 7880 )  loss: 3.1238 -- time: 1.7325 sec.\n",
      "ステップ( 7890 )  loss: 3.4039 -- time: 4.6187 sec.\n",
      "ステップ( 7900 )  loss: 3.4232 -- time: 4.6226 sec.\n",
      "ステップ( 7910 )  loss: 3.8503 -- time: 4.7075 sec.\n",
      "ステップ( 7920 )  loss: 3.5078 -- time: 4.6436 sec.\n",
      "ステップ( 7930 )  loss: 3.5725 -- time: 4.6915 sec.\n",
      "ステップ( 7940 )  loss: 2.9451 -- time: 4.5641 sec.\n",
      "ステップ( 7950 )  loss: 3.4211 -- time: 4.7302 sec.\n",
      "ステップ( 7960 )  loss: 3.4710 -- time: 4.5494 sec.\n",
      "ステップ( 7970 )  loss: 3.3790 -- time: 4.5952 sec.\n",
      "ステップ( 7980 )  loss: 4.0029 -- time: 4.6781 sec.\n",
      "ステップ( 7990 )  loss: 3.6249 -- time: 4.5498 sec.\n",
      "ステップ( 8000 )  loss: 3.8154 -- time: 4.6613 sec.\n",
      "ステップ( 8010 )  loss: 3.9630 -- time: 4.6907 sec.\n",
      "ステップ( 8020 )  loss: 3.2635 -- time: 4.5314 sec.\n",
      "ステップ( 8030 )  loss: 3.4160 -- time: 4.6457 sec.\n",
      "ステップ( 8040 )  loss: 3.5376 -- time: 4.4606 sec.\n",
      "ステップ( 8050 )  loss: 3.1171 -- time: 4.5964 sec.\n",
      "--------------------------\n",
      "train_loss: 631.0396 - val_loss: 0.0000\n",
      "time: 85.2816 sec.\n",
      "--------------------------\n",
      "Epoch 46/50\n",
      "--------------------------\n"
     ]
    },
    {
     "name": "stderr",
     "output_type": "stream",
     "text": [
      "/home/komuro/Documents/ssdbook/augmentation.py:238: VisibleDeprecationWarning: Creating an ndarray from ragged nested sequences (which is a list-or-tuple of lists-or-tuples-or ndarrays with different lengths or shapes) is deprecated. If you meant to do this, you must specify 'dtype=object' when creating the ndarray.\n",
      "  mode = random.choice(self.sample_options)\n"
     ]
    },
    {
     "name": "stdout",
     "output_type": "stream",
     "text": [
      "ステップ( 8060 )  loss: 3.6807 -- time: 2.2340 sec.\n",
      "ステップ( 8070 )  loss: 3.0839 -- time: 4.5657 sec.\n",
      "ステップ( 8080 )  loss: 3.3683 -- time: 4.5049 sec.\n",
      "ステップ( 8090 )  loss: 3.7701 -- time: 4.5490 sec.\n",
      "ステップ( 8100 )  loss: 3.5194 -- time: 4.4010 sec.\n",
      "ステップ( 8110 )  loss: 3.5576 -- time: 4.7881 sec.\n",
      "ステップ( 8120 )  loss: 3.8921 -- time: 4.5667 sec.\n",
      "ステップ( 8130 )  loss: 3.2274 -- time: 4.7494 sec.\n",
      "ステップ( 8140 )  loss: 3.5556 -- time: 4.5100 sec.\n",
      "ステップ( 8150 )  loss: 3.2592 -- time: 4.5117 sec.\n",
      "ステップ( 8160 )  loss: 2.7283 -- time: 4.7014 sec.\n",
      "ステップ( 8170 )  loss: 4.0428 -- time: 4.6812 sec.\n",
      "ステップ( 8180 )  loss: 3.0128 -- time: 4.6603 sec.\n",
      "ステップ( 8190 )  loss: 4.3132 -- time: 4.7229 sec.\n",
      "ステップ( 8200 )  loss: 3.2764 -- time: 4.8225 sec.\n",
      "ステップ( 8210 )  loss: 3.7075 -- time: 4.5003 sec.\n",
      "ステップ( 8220 )  loss: 3.3880 -- time: 4.6846 sec.\n",
      "ステップ( 8230 )  loss: 3.7233 -- time: 4.5057 sec.\n",
      "--------------------------\n",
      "train_loss: 627.0202 - val_loss: 0.0000\n",
      "time: 85.0650 sec.\n",
      "--------------------------\n",
      "Epoch 47/50\n",
      "--------------------------\n"
     ]
    },
    {
     "name": "stderr",
     "output_type": "stream",
     "text": [
      "/home/komuro/Documents/ssdbook/augmentation.py:238: VisibleDeprecationWarning: Creating an ndarray from ragged nested sequences (which is a list-or-tuple of lists-or-tuples-or ndarrays with different lengths or shapes) is deprecated. If you meant to do this, you must specify 'dtype=object' when creating the ndarray.\n",
      "  mode = random.choice(self.sample_options)\n"
     ]
    },
    {
     "name": "stdout",
     "output_type": "stream",
     "text": [
      "ステップ( 8240 )  loss: 4.0603 -- time: 2.6220 sec.\n",
      "ステップ( 8250 )  loss: 3.5088 -- time: 4.5167 sec.\n",
      "ステップ( 8260 )  loss: 3.3910 -- time: 4.5755 sec.\n",
      "ステップ( 8270 )  loss: 3.8180 -- time: 4.5671 sec.\n",
      "ステップ( 8280 )  loss: 4.0303 -- time: 4.6079 sec.\n",
      "ステップ( 8290 )  loss: 3.6798 -- time: 4.5698 sec.\n",
      "ステップ( 8300 )  loss: 3.0087 -- time: 4.5554 sec.\n",
      "ステップ( 8310 )  loss: 3.4740 -- time: 4.6090 sec.\n",
      "ステップ( 8320 )  loss: 3.4275 -- time: 4.5295 sec.\n",
      "ステップ( 8330 )  loss: 3.2526 -- time: 4.5244 sec.\n",
      "ステップ( 8340 )  loss: 3.7771 -- time: 4.5150 sec.\n",
      "ステップ( 8350 )  loss: 3.7641 -- time: 4.6147 sec.\n",
      "ステップ( 8360 )  loss: 2.8403 -- time: 4.4918 sec.\n",
      "ステップ( 8370 )  loss: 3.7382 -- time: 4.5728 sec.\n",
      "ステップ( 8380 )  loss: 3.8491 -- time: 4.5087 sec.\n",
      "ステップ( 8390 )  loss: 4.2736 -- time: 4.6152 sec.\n",
      "ステップ( 8400 )  loss: 3.3823 -- time: 4.5687 sec.\n",
      "ステップ( 8410 )  loss: 3.6125 -- time: 4.5772 sec.\n",
      "--------------------------\n",
      "train_loss: 626.9340 - val_loss: 0.0000\n",
      "time: 84.1468 sec.\n",
      "--------------------------\n",
      "Epoch 48/50\n",
      "--------------------------\n"
     ]
    },
    {
     "name": "stderr",
     "output_type": "stream",
     "text": [
      "/home/komuro/Documents/ssdbook/augmentation.py:238: VisibleDeprecationWarning: Creating an ndarray from ragged nested sequences (which is a list-or-tuple of lists-or-tuples-or ndarrays with different lengths or shapes) is deprecated. If you meant to do this, you must specify 'dtype=object' when creating the ndarray.\n",
      "  mode = random.choice(self.sample_options)\n"
     ]
    },
    {
     "name": "stdout",
     "output_type": "stream",
     "text": [
      "ステップ( 8420 )  loss: 3.8871 -- time: 3.1763 sec.\n",
      "ステップ( 8430 )  loss: 2.9303 -- time: 4.5552 sec.\n",
      "ステップ( 8440 )  loss: 3.4763 -- time: 4.5672 sec.\n",
      "ステップ( 8450 )  loss: 3.3689 -- time: 4.6029 sec.\n",
      "ステップ( 8460 )  loss: 2.9827 -- time: 4.6354 sec.\n",
      "ステップ( 8470 )  loss: 3.6471 -- time: 4.6796 sec.\n",
      "ステップ( 8480 )  loss: 2.8849 -- time: 4.6313 sec.\n",
      "ステップ( 8490 )  loss: 3.9585 -- time: 4.5058 sec.\n",
      "ステップ( 8500 )  loss: 3.9513 -- time: 4.6413 sec.\n",
      "ステップ( 8510 )  loss: 3.5657 -- time: 4.5842 sec.\n",
      "ステップ( 8520 )  loss: 3.1375 -- time: 4.5903 sec.\n",
      "ステップ( 8530 )  loss: 3.9060 -- time: 4.5449 sec.\n",
      "ステップ( 8540 )  loss: 3.4508 -- time: 4.7895 sec.\n",
      "ステップ( 8550 )  loss: 3.4370 -- time: 4.7173 sec.\n",
      "ステップ( 8560 )  loss: 4.0058 -- time: 4.6027 sec.\n",
      "ステップ( 8570 )  loss: 3.7914 -- time: 4.5939 sec.\n",
      "ステップ( 8580 )  loss: 3.8810 -- time: 4.6725 sec.\n",
      "ステップ( 8590 )  loss: 3.8545 -- time: 4.6022 sec.\n",
      "--------------------------\n",
      "train_loss: 618.2093 - val_loss: 0.0000\n",
      "time: 85.2271 sec.\n",
      "--------------------------\n",
      "Epoch 49/50\n",
      "--------------------------\n"
     ]
    },
    {
     "name": "stderr",
     "output_type": "stream",
     "text": [
      "/home/komuro/Documents/ssdbook/augmentation.py:238: VisibleDeprecationWarning: Creating an ndarray from ragged nested sequences (which is a list-or-tuple of lists-or-tuples-or ndarrays with different lengths or shapes) is deprecated. If you meant to do this, you must specify 'dtype=object' when creating the ndarray.\n",
      "  mode = random.choice(self.sample_options)\n"
     ]
    },
    {
     "name": "stdout",
     "output_type": "stream",
     "text": [
      "ステップ( 8600 )  loss: 3.5562 -- time: 3.5431 sec.\n",
      "ステップ( 8610 )  loss: 3.4854 -- time: 4.5997 sec.\n",
      "ステップ( 8620 )  loss: 3.6750 -- time: 4.5551 sec.\n",
      "ステップ( 8630 )  loss: 3.6721 -- time: 4.6024 sec.\n",
      "ステップ( 8640 )  loss: 3.7106 -- time: 4.5798 sec.\n",
      "ステップ( 8650 )  loss: 3.8157 -- time: 4.7815 sec.\n",
      "ステップ( 8660 )  loss: 3.5406 -- time: 4.5222 sec.\n",
      "ステップ( 8670 )  loss: 3.2045 -- time: 4.6735 sec.\n",
      "ステップ( 8680 )  loss: 3.4038 -- time: 4.6219 sec.\n",
      "ステップ( 8690 )  loss: 2.9972 -- time: 4.6025 sec.\n",
      "ステップ( 8700 )  loss: 3.3221 -- time: 4.5387 sec.\n",
      "ステップ( 8710 )  loss: 3.4139 -- time: 4.6200 sec.\n",
      "ステップ( 8720 )  loss: 3.2163 -- time: 4.6784 sec.\n",
      "ステップ( 8730 )  loss: 3.5807 -- time: 4.5700 sec.\n",
      "ステップ( 8740 )  loss: 3.5082 -- time: 4.6163 sec.\n",
      "ステップ( 8750 )  loss: 3.3746 -- time: 4.5308 sec.\n",
      "ステップ( 8760 )  loss: 3.7508 -- time: 4.5185 sec.\n",
      "ステップ( 8770 )  loss: 3.6274 -- time: 4.5865 sec.\n",
      "--------------------------\n",
      "train_loss: 618.5308 - val_loss: 0.0000\n",
      "time: 84.8126 sec.\n",
      "--------------------------\n",
      "Epoch 50/50\n",
      "--------------------------\n"
     ]
    },
    {
     "name": "stderr",
     "output_type": "stream",
     "text": [
      "/home/komuro/Documents/ssdbook/augmentation.py:238: VisibleDeprecationWarning: Creating an ndarray from ragged nested sequences (which is a list-or-tuple of lists-or-tuples-or ndarrays with different lengths or shapes) is deprecated. If you meant to do this, you must specify 'dtype=object' when creating the ndarray.\n",
      "  mode = random.choice(self.sample_options)\n"
     ]
    },
    {
     "name": "stdout",
     "output_type": "stream",
     "text": [
      "ステップ( 8780 )  loss: 3.0061 -- time: 4.0536 sec.\n",
      "ステップ( 8790 )  loss: 3.2130 -- time: 4.5674 sec.\n",
      "ステップ( 8800 )  loss: 3.1602 -- time: 4.5560 sec.\n",
      "ステップ( 8810 )  loss: 3.7752 -- time: 4.4853 sec.\n",
      "ステップ( 8820 )  loss: 2.9803 -- time: 4.5440 sec.\n",
      "ステップ( 8830 )  loss: 3.6303 -- time: 4.4915 sec.\n",
      "ステップ( 8840 )  loss: 3.8253 -- time: 4.5299 sec.\n",
      "ステップ( 8850 )  loss: 2.8480 -- time: 4.5682 sec.\n",
      "ステップ( 8860 )  loss: 3.8794 -- time: 4.5535 sec.\n",
      "ステップ( 8870 )  loss: 3.0537 -- time: 4.6792 sec.\n",
      "ステップ( 8880 )  loss: 2.9956 -- time: 4.6507 sec.\n",
      "ステップ( 8890 )  loss: 3.0756 -- time: 4.5316 sec.\n",
      "ステップ( 8900 )  loss: 2.8362 -- time: 4.4318 sec.\n",
      "ステップ( 8910 )  loss: 3.5260 -- time: 4.5330 sec.\n",
      "ステップ( 8920 )  loss: 3.2934 -- time: 4.5755 sec.\n",
      "ステップ( 8930 )  loss: 3.3709 -- time: 4.5573 sec.\n",
      "ステップ( 8940 )  loss: 3.6246 -- time: 4.6817 sec.\n",
      "ステップ( 8950 )  loss: 3.2931 -- time: 4.4537 sec.\n",
      "--------------------------\n",
      "validation\n",
      "--------------------------\n",
      "train_loss: 607.2673 - val_loss: 696.2233\n",
      "time: 117.9840 sec.\n",
      "--saved weights--\n"
     ]
    }
   ],
   "source": [
    "num_epochs = 50\n",
    "\n",
    "train(net,\n",
    "      dataloaders_dict,\n",
    "      criterion,\n",
    "      optimizer,\n",
    "      num_epochs=num_epochs)"
   ]
  },
  {
   "cell_type": "code",
   "execution_count": null,
   "metadata": {},
   "outputs": [],
   "source": []
  }
 ],
 "metadata": {
  "kernelspec": {
   "display_name": "example",
   "language": "python",
   "name": "python3"
  },
  "language_info": {
   "codemirror_mode": {
    "name": "ipython",
    "version": 3
   },
   "file_extension": ".py",
   "mimetype": "text/x-python",
   "name": "python",
   "nbconvert_exporter": "python",
   "pygments_lexer": "ipython3",
   "version": "3.9.16"
  },
  "orig_nbformat": 4
 },
 "nbformat": 4,
 "nbformat_minor": 2
}
